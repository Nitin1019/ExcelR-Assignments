{
 "cells": [
  {
   "cell_type": "code",
   "execution_count": 1,
   "metadata": {},
   "outputs": [
    {
     "name": "stdout",
     "output_type": "stream",
     "text": [
      "Collecting naive-bayes\n",
      "  Downloading naive-bayes-0.1.1.tar.gz (1.8 kB)\n",
      "Requirement already satisfied: scikit-learn>=0.15.2 in c:\\users\\nitin\\anaconda3\\lib\\site-packages (from naive-bayes) (0.22.1)\n",
      "Requirement already satisfied: numpy>=1.9.0 in c:\\users\\nitin\\anaconda3\\lib\\site-packages (from naive-bayes) (1.18.1)\n",
      "Requirement already satisfied: joblib>=0.11 in c:\\users\\nitin\\anaconda3\\lib\\site-packages (from scikit-learn>=0.15.2->naive-bayes) (0.14.1)\n",
      "Requirement already satisfied: scipy>=0.17.0 in c:\\users\\nitin\\anaconda3\\lib\\site-packages (from scikit-learn>=0.15.2->naive-bayes) (1.4.1)\n",
      "Building wheels for collected packages: naive-bayes\n",
      "  Building wheel for naive-bayes (setup.py): started\n",
      "  Building wheel for naive-bayes (setup.py): finished with status 'done'\n",
      "  Created wheel for naive-bayes: filename=naive_bayes-0.1.1-py3-none-any.whl size=2192 sha256=abe1de8b3b5af6eca59c25bc5ab82fb11a75a6955bb16d0e2081fb98d129d7b9\n",
      "  Stored in directory: c:\\users\\nitin\\appdata\\local\\pip\\cache\\wheels\\52\\47\\13\\1923f8fd67eb6d20f9d06a5c81ab3dc427126de6709c03ce88\n",
      "Successfully built naive-bayes\n",
      "Installing collected packages: naive-bayes\n",
      "Successfully installed naive-bayes-0.1.1\n"
     ]
    }
   ],
   "source": [
    "!pip install naive-bayes"
   ]
  },
  {
   "cell_type": "code",
   "execution_count": 2,
   "metadata": {},
   "outputs": [],
   "source": [
    "import numpy as np\n",
    "import pandas as pd\n",
    "import matplotlib.pyplot as plt"
   ]
  },
  {
   "cell_type": "code",
   "execution_count": 4,
   "metadata": {},
   "outputs": [],
   "source": [
    "salary_train=pd.read_csv('D:\\\\ExcelR_Assig_PDF\\\\Naive Bayers\\\\SalaryData_Train.csv')\n",
    "salary_test=pd.read_csv('D:\\\\ExcelR_Assig_PDF\\\\Naive Bayers\\\\SalaryData_Test.csv')"
   ]
  },
  {
   "cell_type": "code",
   "execution_count": 5,
   "metadata": {},
   "outputs": [
    {
     "data": {
      "text/plain": [
       "Index(['age', 'workclass', 'education', 'educationno', 'maritalstatus',\n",
       "       'occupation', 'relationship', 'race', 'sex', 'capitalgain',\n",
       "       'capitalloss', 'hoursperweek', 'native', 'Salary'],\n",
       "      dtype='object')"
      ]
     },
     "execution_count": 5,
     "metadata": {},
     "output_type": "execute_result"
    }
   ],
   "source": [
    "salary_train.columns"
   ]
  },
  {
   "cell_type": "code",
   "execution_count": 6,
   "metadata": {},
   "outputs": [
    {
     "data": {
      "text/plain": [
       "Index(['age', 'workclass', 'education', 'educationno', 'maritalstatus',\n",
       "       'occupation', 'relationship', 'race', 'sex', 'capitalgain',\n",
       "       'capitalloss', 'hoursperweek', 'native', 'Salary'],\n",
       "      dtype='object')"
      ]
     },
     "execution_count": 6,
     "metadata": {},
     "output_type": "execute_result"
    }
   ],
   "source": [
    "salary_test.columns"
   ]
  },
  {
   "cell_type": "code",
   "execution_count": 7,
   "metadata": {},
   "outputs": [],
   "source": [
    "string_columns=['workclass','education','maritalstatus','occupation','relationship','race','sex','native']"
   ]
  },
  {
   "cell_type": "code",
   "execution_count": 8,
   "metadata": {},
   "outputs": [],
   "source": [
    "from sklearn import preprocessing\n",
    "label_encoder=preprocessing.LabelEncoder()\n",
    "for i in string_columns:\n",
    "    salary_train[i]=label_encoder.fit_transform(salary_train[i])\n",
    "    salary_test[i]=label_encoder.fit_transform(salary_test[i])"
   ]
  },
  {
   "cell_type": "code",
   "execution_count": 9,
   "metadata": {},
   "outputs": [],
   "source": [
    "col_names=list(salary_train.columns)"
   ]
  },
  {
   "cell_type": "code",
   "execution_count": 10,
   "metadata": {},
   "outputs": [],
   "source": [
    "train_X=salary_train[col_names[0:13]]\n",
    "train_Y=salary_train[col_names[13]]\n",
    "test_x=salary_test[col_names[0:13]]\n",
    "test_y=salary_test[col_names[13]]"
   ]
  },
  {
   "cell_type": "markdown",
   "metadata": {},
   "source": [
    "## Gaussian Naive Bayes"
   ]
  },
  {
   "cell_type": "code",
   "execution_count": 11,
   "metadata": {},
   "outputs": [],
   "source": [
    "from sklearn.naive_bayes import GaussianNB\n",
    "Gmodel=GaussianNB()"
   ]
  },
  {
   "cell_type": "code",
   "execution_count": 12,
   "metadata": {},
   "outputs": [],
   "source": [
    "train_pred_gau=Gmodel.fit(train_X,train_Y).predict(train_X)\n",
    "test_pred_gau=Gmodel.fit(train_X,train_Y).predict(test_x)"
   ]
  },
  {
   "cell_type": "code",
   "execution_count": 13,
   "metadata": {},
   "outputs": [],
   "source": [
    "train_acc_gau=np.mean(train_pred_gau==train_Y)\n",
    "test_acc_gau=np.mean(test_pred_gau==test_y)"
   ]
  },
  {
   "cell_type": "code",
   "execution_count": 21,
   "metadata": {},
   "outputs": [
    {
     "data": {
      "text/plain": [
       "0.7953317197705646"
      ]
     },
     "execution_count": 21,
     "metadata": {},
     "output_type": "execute_result"
    }
   ],
   "source": [
    "train_acc_gau"
   ]
  },
  {
   "cell_type": "code",
   "execution_count": 22,
   "metadata": {},
   "outputs": [
    {
     "data": {
      "text/plain": [
       "0.7946879150066402"
      ]
     },
     "execution_count": 22,
     "metadata": {},
     "output_type": "execute_result"
    }
   ],
   "source": [
    "test_acc_gau"
   ]
  },
  {
   "cell_type": "markdown",
   "metadata": {},
   "source": [
    "## Multinomial Naive Bayes"
   ]
  },
  {
   "cell_type": "code",
   "execution_count": 15,
   "metadata": {},
   "outputs": [],
   "source": [
    "from sklearn.naive_bayes import MultinomialNB\n",
    "Mmodel=MultinomialNB()"
   ]
  },
  {
   "cell_type": "code",
   "execution_count": 16,
   "metadata": {},
   "outputs": [],
   "source": [
    "train_pred_multi=Mmodel.fit(train_X,train_Y).predict(train_X)\n",
    "test_pred_multi=Mmodel.fit(train_X,train_Y).predict(test_x)"
   ]
  },
  {
   "cell_type": "code",
   "execution_count": 17,
   "metadata": {},
   "outputs": [],
   "source": [
    "train_acc_multi=np.mean(train_pred_multi==train_Y)\n",
    "test_acc_multi=np.mean(test_pred_multi==test_y)"
   ]
  },
  {
   "cell_type": "code",
   "execution_count": 18,
   "metadata": {},
   "outputs": [
    {
     "data": {
      "text/plain": [
       "0.7729186698053778"
      ]
     },
     "execution_count": 18,
     "metadata": {},
     "output_type": "execute_result"
    }
   ],
   "source": [
    "train_acc_multi"
   ]
  },
  {
   "cell_type": "code",
   "execution_count": 20,
   "metadata": {},
   "outputs": [
    {
     "data": {
      "text/plain": [
       "0.7749667994687915"
      ]
     },
     "execution_count": 20,
     "metadata": {},
     "output_type": "execute_result"
    }
   ],
   "source": [
    "test_acc_multi"
   ]
  },
  {
   "cell_type": "code",
   "execution_count": null,
   "metadata": {},
   "outputs": [],
   "source": []
  }
 ],
 "metadata": {
  "kernelspec": {
   "display_name": "Python 3",
   "language": "python",
   "name": "python3"
  },
  "language_info": {
   "codemirror_mode": {
    "name": "ipython",
    "version": 3
   },
   "file_extension": ".py",
   "mimetype": "text/x-python",
   "name": "python",
   "nbconvert_exporter": "python",
   "pygments_lexer": "ipython3",
   "version": "3.7.6"
  }
 },
 "nbformat": 4,
 "nbformat_minor": 4
}
