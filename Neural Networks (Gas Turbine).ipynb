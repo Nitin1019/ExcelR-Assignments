{
 "cells": [
  {
   "cell_type": "code",
   "execution_count": 1,
   "metadata": {},
   "outputs": [
    {
     "name": "stdout",
     "output_type": "stream",
     "text": [
      "Requirement already satisfied: keras in c:\\users\\nitin\\anaconda3\\lib\\site-packages (2.7.0)\n",
      "Requirement already satisfied: tensorflow in c:\\users\\nitin\\anaconda3\\lib\\site-packages (2.7.0)\n",
      "Requirement already satisfied: flatbuffers<3.0,>=1.12 in c:\\users\\nitin\\anaconda3\\lib\\site-packages (from tensorflow) (2.0)\n",
      "Requirement already satisfied: h5py>=2.9.0 in c:\\users\\nitin\\anaconda3\\lib\\site-packages (from tensorflow) (2.10.0)\n",
      "Requirement already satisfied: gast<0.5.0,>=0.2.1 in c:\\users\\nitin\\anaconda3\\lib\\site-packages (from tensorflow) (0.4.0)\n",
      "Requirement already satisfied: astunparse>=1.6.0 in c:\\users\\nitin\\anaconda3\\lib\\site-packages (from tensorflow) (1.6.3)\n",
      "Requirement already satisfied: grpcio<2.0,>=1.24.3 in c:\\users\\nitin\\anaconda3\\lib\\site-packages (from tensorflow) (1.43.0)\n",
      "Requirement already satisfied: six>=1.12.0 in c:\\users\\nitin\\anaconda3\\lib\\site-packages (from tensorflow) (1.14.0)\n",
      "Requirement already satisfied: keras<2.8,>=2.7.0rc0 in c:\\users\\nitin\\anaconda3\\lib\\site-packages (from tensorflow) (2.7.0)\n",
      "Requirement already satisfied: termcolor>=1.1.0 in c:\\users\\nitin\\anaconda3\\lib\\site-packages (from tensorflow) (1.1.0)\n",
      "Requirement already satisfied: tensorboard~=2.6 in c:\\users\\nitin\\anaconda3\\lib\\site-packages (from tensorflow) (2.7.0)\n",
      "Requirement already satisfied: keras-preprocessing>=1.1.1 in c:\\users\\nitin\\anaconda3\\lib\\site-packages (from tensorflow) (1.1.2)\n",
      "Requirement already satisfied: typing-extensions>=3.6.6 in c:\\users\\nitin\\anaconda3\\lib\\site-packages (from tensorflow) (3.10.0.2)\n",
      "Requirement already satisfied: absl-py>=0.4.0 in c:\\users\\nitin\\anaconda3\\lib\\site-packages (from tensorflow) (1.0.0)\n",
      "Requirement already satisfied: google-pasta>=0.1.1 in c:\\users\\nitin\\anaconda3\\lib\\site-packages (from tensorflow) (0.2.0)\n",
      "Requirement already satisfied: tensorflow-io-gcs-filesystem>=0.21.0 in c:\\users\\nitin\\anaconda3\\lib\\site-packages (from tensorflow) (0.23.1)\n",
      "Requirement already satisfied: wheel<1.0,>=0.32.0 in c:\\users\\nitin\\anaconda3\\lib\\site-packages (from tensorflow) (0.34.2)\n",
      "Requirement already satisfied: opt-einsum>=2.3.2 in c:\\users\\nitin\\anaconda3\\lib\\site-packages (from tensorflow) (3.3.0)\n",
      "Requirement already satisfied: numpy>=1.14.5 in c:\\users\\nitin\\anaconda3\\lib\\site-packages (from tensorflow) (1.18.1)\n",
      "Requirement already satisfied: tensorflow-estimator<2.8,~=2.7.0rc0 in c:\\users\\nitin\\anaconda3\\lib\\site-packages (from tensorflow) (2.7.0)\n",
      "Requirement already satisfied: libclang>=9.0.1 in c:\\users\\nitin\\anaconda3\\lib\\site-packages (from tensorflow) (12.0.0)\n",
      "Requirement already satisfied: protobuf>=3.9.2 in c:\\users\\nitin\\anaconda3\\lib\\site-packages (from tensorflow) (3.19.1)\n",
      "Requirement already satisfied: wrapt>=1.11.0 in c:\\users\\nitin\\anaconda3\\lib\\site-packages (from tensorflow) (1.11.2)\n",
      "Requirement already satisfied: werkzeug>=0.11.15 in c:\\users\\nitin\\anaconda3\\lib\\site-packages (from tensorboard~=2.6->tensorflow) (1.0.0)\n",
      "Requirement already satisfied: requests<3,>=2.21.0 in c:\\users\\nitin\\anaconda3\\lib\\site-packages (from tensorboard~=2.6->tensorflow) (2.22.0)\n",
      "Requirement already satisfied: tensorboard-data-server<0.7.0,>=0.6.0 in c:\\users\\nitin\\anaconda3\\lib\\site-packages (from tensorboard~=2.6->tensorflow) (0.6.1)\n",
      "Requirement already satisfied: markdown>=2.6.8 in c:\\users\\nitin\\anaconda3\\lib\\site-packages (from tensorboard~=2.6->tensorflow) (3.3.6)\n",
      "Requirement already satisfied: google-auth-oauthlib<0.5,>=0.4.1 in c:\\users\\nitin\\anaconda3\\lib\\site-packages (from tensorboard~=2.6->tensorflow) (0.4.6)\n",
      "Requirement already satisfied: tensorboard-plugin-wit>=1.6.0 in c:\\users\\nitin\\anaconda3\\lib\\site-packages (from tensorboard~=2.6->tensorflow) (1.8.0)\n",
      "Requirement already satisfied: google-auth<3,>=1.6.3 in c:\\users\\nitin\\anaconda3\\lib\\site-packages (from tensorboard~=2.6->tensorflow) (2.3.3)\n",
      "Requirement already satisfied: setuptools>=41.0.0 in c:\\users\\nitin\\anaconda3\\lib\\site-packages (from tensorboard~=2.6->tensorflow) (45.2.0.post20200210)\n",
      "Requirement already satisfied: urllib3!=1.25.0,!=1.25.1,<1.26,>=1.21.1 in c:\\users\\nitin\\anaconda3\\lib\\site-packages (from requests<3,>=2.21.0->tensorboard~=2.6->tensorflow) (1.25.8)\n",
      "Requirement already satisfied: certifi>=2017.4.17 in c:\\users\\nitin\\anaconda3\\lib\\site-packages (from requests<3,>=2.21.0->tensorboard~=2.6->tensorflow) (2019.11.28)\n",
      "Requirement already satisfied: chardet<3.1.0,>=3.0.2 in c:\\users\\nitin\\anaconda3\\lib\\site-packages (from requests<3,>=2.21.0->tensorboard~=2.6->tensorflow) (3.0.4)\n",
      "Requirement already satisfied: idna<2.9,>=2.5 in c:\\users\\nitin\\anaconda3\\lib\\site-packages (from requests<3,>=2.21.0->tensorboard~=2.6->tensorflow) (2.8)\n",
      "Requirement already satisfied: importlib-metadata>=4.4; python_version < \"3.10\" in c:\\users\\nitin\\anaconda3\\lib\\site-packages (from markdown>=2.6.8->tensorboard~=2.6->tensorflow) (4.10.0)\n",
      "Requirement already satisfied: requests-oauthlib>=0.7.0 in c:\\users\\nitin\\anaconda3\\lib\\site-packages (from google-auth-oauthlib<0.5,>=0.4.1->tensorboard~=2.6->tensorflow) (1.3.0)\n",
      "Requirement already satisfied: pyasn1-modules>=0.2.1 in c:\\users\\nitin\\anaconda3\\lib\\site-packages (from google-auth<3,>=1.6.3->tensorboard~=2.6->tensorflow) (0.2.8)\n",
      "Requirement already satisfied: cachetools<5.0,>=2.0.0 in c:\\users\\nitin\\anaconda3\\lib\\site-packages (from google-auth<3,>=1.6.3->tensorboard~=2.6->tensorflow) (4.2.4)\n",
      "Requirement already satisfied: rsa<5,>=3.1.4; python_version >= \"3.6\" in c:\\users\\nitin\\anaconda3\\lib\\site-packages (from google-auth<3,>=1.6.3->tensorboard~=2.6->tensorflow) (4.8)\n",
      "Requirement already satisfied: zipp>=0.5 in c:\\users\\nitin\\anaconda3\\lib\\site-packages (from importlib-metadata>=4.4; python_version < \"3.10\"->markdown>=2.6.8->tensorboard~=2.6->tensorflow) (3.6.0)\n",
      "Requirement already satisfied: oauthlib>=3.0.0 in c:\\users\\nitin\\anaconda3\\lib\\site-packages (from requests-oauthlib>=0.7.0->google-auth-oauthlib<0.5,>=0.4.1->tensorboard~=2.6->tensorflow) (3.1.1)\n",
      "Requirement already satisfied: pyasn1<0.5.0,>=0.4.6 in c:\\users\\nitin\\anaconda3\\lib\\site-packages (from pyasn1-modules>=0.2.1->google-auth<3,>=1.6.3->tensorboard~=2.6->tensorflow) (0.4.8)\n"
     ]
    }
   ],
   "source": [
    "!pip install keras\n",
    "!pip install tensorflow\n",
    "import pandas as pd\n",
    "import numpy as np\n",
    "import keras\n",
    "import tensorflow\n",
    "import seaborn as sns"
   ]
  },
  {
   "cell_type": "code",
   "execution_count": 3,
   "metadata": {},
   "outputs": [],
   "source": [
    "Gt=pd.read_csv(\"D:\\\\ExcelR_Assig_PDF\\\\Neural Networks\\\\gas_turbines.csv\")"
   ]
  },
  {
   "cell_type": "code",
   "execution_count": 4,
   "metadata": {},
   "outputs": [
    {
     "data": {
      "text/html": [
       "<div>\n",
       "<style scoped>\n",
       "    .dataframe tbody tr th:only-of-type {\n",
       "        vertical-align: middle;\n",
       "    }\n",
       "\n",
       "    .dataframe tbody tr th {\n",
       "        vertical-align: top;\n",
       "    }\n",
       "\n",
       "    .dataframe thead th {\n",
       "        text-align: right;\n",
       "    }\n",
       "</style>\n",
       "<table border=\"1\" class=\"dataframe\">\n",
       "  <thead>\n",
       "    <tr style=\"text-align: right;\">\n",
       "      <th></th>\n",
       "      <th>AT</th>\n",
       "      <th>AP</th>\n",
       "      <th>AH</th>\n",
       "      <th>AFDP</th>\n",
       "      <th>GTEP</th>\n",
       "      <th>TIT</th>\n",
       "      <th>TAT</th>\n",
       "      <th>TEY</th>\n",
       "      <th>CDP</th>\n",
       "      <th>CO</th>\n",
       "      <th>NOX</th>\n",
       "    </tr>\n",
       "  </thead>\n",
       "  <tbody>\n",
       "    <tr>\n",
       "      <th>0</th>\n",
       "      <td>6.8594</td>\n",
       "      <td>1007.9</td>\n",
       "      <td>96.799</td>\n",
       "      <td>3.5000</td>\n",
       "      <td>19.663</td>\n",
       "      <td>1059.2</td>\n",
       "      <td>550.00</td>\n",
       "      <td>114.70</td>\n",
       "      <td>10.605</td>\n",
       "      <td>3.1547</td>\n",
       "      <td>82.722</td>\n",
       "    </tr>\n",
       "    <tr>\n",
       "      <th>1</th>\n",
       "      <td>6.7850</td>\n",
       "      <td>1008.4</td>\n",
       "      <td>97.118</td>\n",
       "      <td>3.4998</td>\n",
       "      <td>19.728</td>\n",
       "      <td>1059.3</td>\n",
       "      <td>550.00</td>\n",
       "      <td>114.72</td>\n",
       "      <td>10.598</td>\n",
       "      <td>3.2363</td>\n",
       "      <td>82.776</td>\n",
       "    </tr>\n",
       "    <tr>\n",
       "      <th>2</th>\n",
       "      <td>6.8977</td>\n",
       "      <td>1008.8</td>\n",
       "      <td>95.939</td>\n",
       "      <td>3.4824</td>\n",
       "      <td>19.779</td>\n",
       "      <td>1059.4</td>\n",
       "      <td>549.87</td>\n",
       "      <td>114.71</td>\n",
       "      <td>10.601</td>\n",
       "      <td>3.2012</td>\n",
       "      <td>82.468</td>\n",
       "    </tr>\n",
       "    <tr>\n",
       "      <th>3</th>\n",
       "      <td>7.0569</td>\n",
       "      <td>1009.2</td>\n",
       "      <td>95.249</td>\n",
       "      <td>3.4805</td>\n",
       "      <td>19.792</td>\n",
       "      <td>1059.6</td>\n",
       "      <td>549.99</td>\n",
       "      <td>114.72</td>\n",
       "      <td>10.606</td>\n",
       "      <td>3.1923</td>\n",
       "      <td>82.670</td>\n",
       "    </tr>\n",
       "    <tr>\n",
       "      <th>4</th>\n",
       "      <td>7.3978</td>\n",
       "      <td>1009.7</td>\n",
       "      <td>95.150</td>\n",
       "      <td>3.4976</td>\n",
       "      <td>19.765</td>\n",
       "      <td>1059.7</td>\n",
       "      <td>549.98</td>\n",
       "      <td>114.72</td>\n",
       "      <td>10.612</td>\n",
       "      <td>3.2484</td>\n",
       "      <td>82.311</td>\n",
       "    </tr>\n",
       "    <tr>\n",
       "      <th>...</th>\n",
       "      <td>...</td>\n",
       "      <td>...</td>\n",
       "      <td>...</td>\n",
       "      <td>...</td>\n",
       "      <td>...</td>\n",
       "      <td>...</td>\n",
       "      <td>...</td>\n",
       "      <td>...</td>\n",
       "      <td>...</td>\n",
       "      <td>...</td>\n",
       "      <td>...</td>\n",
       "    </tr>\n",
       "    <tr>\n",
       "      <th>15034</th>\n",
       "      <td>9.0301</td>\n",
       "      <td>1005.6</td>\n",
       "      <td>98.460</td>\n",
       "      <td>3.5421</td>\n",
       "      <td>19.164</td>\n",
       "      <td>1049.7</td>\n",
       "      <td>546.21</td>\n",
       "      <td>111.61</td>\n",
       "      <td>10.400</td>\n",
       "      <td>4.5186</td>\n",
       "      <td>79.559</td>\n",
       "    </tr>\n",
       "    <tr>\n",
       "      <th>15035</th>\n",
       "      <td>7.8879</td>\n",
       "      <td>1005.9</td>\n",
       "      <td>99.093</td>\n",
       "      <td>3.5059</td>\n",
       "      <td>19.414</td>\n",
       "      <td>1046.3</td>\n",
       "      <td>543.22</td>\n",
       "      <td>111.78</td>\n",
       "      <td>10.433</td>\n",
       "      <td>4.8470</td>\n",
       "      <td>79.917</td>\n",
       "    </tr>\n",
       "    <tr>\n",
       "      <th>15036</th>\n",
       "      <td>7.2647</td>\n",
       "      <td>1006.3</td>\n",
       "      <td>99.496</td>\n",
       "      <td>3.4770</td>\n",
       "      <td>19.530</td>\n",
       "      <td>1037.7</td>\n",
       "      <td>537.32</td>\n",
       "      <td>110.19</td>\n",
       "      <td>10.483</td>\n",
       "      <td>7.9632</td>\n",
       "      <td>90.912</td>\n",
       "    </tr>\n",
       "    <tr>\n",
       "      <th>15037</th>\n",
       "      <td>7.0060</td>\n",
       "      <td>1006.8</td>\n",
       "      <td>99.008</td>\n",
       "      <td>3.4486</td>\n",
       "      <td>19.377</td>\n",
       "      <td>1043.2</td>\n",
       "      <td>541.24</td>\n",
       "      <td>110.74</td>\n",
       "      <td>10.533</td>\n",
       "      <td>6.2494</td>\n",
       "      <td>93.227</td>\n",
       "    </tr>\n",
       "    <tr>\n",
       "      <th>15038</th>\n",
       "      <td>6.9279</td>\n",
       "      <td>1007.2</td>\n",
       "      <td>97.533</td>\n",
       "      <td>3.4275</td>\n",
       "      <td>19.306</td>\n",
       "      <td>1049.9</td>\n",
       "      <td>545.85</td>\n",
       "      <td>111.58</td>\n",
       "      <td>10.583</td>\n",
       "      <td>4.9816</td>\n",
       "      <td>92.498</td>\n",
       "    </tr>\n",
       "  </tbody>\n",
       "</table>\n",
       "<p>15039 rows × 11 columns</p>\n",
       "</div>"
      ],
      "text/plain": [
       "           AT      AP      AH    AFDP    GTEP     TIT     TAT     TEY     CDP  \\\n",
       "0      6.8594  1007.9  96.799  3.5000  19.663  1059.2  550.00  114.70  10.605   \n",
       "1      6.7850  1008.4  97.118  3.4998  19.728  1059.3  550.00  114.72  10.598   \n",
       "2      6.8977  1008.8  95.939  3.4824  19.779  1059.4  549.87  114.71  10.601   \n",
       "3      7.0569  1009.2  95.249  3.4805  19.792  1059.6  549.99  114.72  10.606   \n",
       "4      7.3978  1009.7  95.150  3.4976  19.765  1059.7  549.98  114.72  10.612   \n",
       "...       ...     ...     ...     ...     ...     ...     ...     ...     ...   \n",
       "15034  9.0301  1005.6  98.460  3.5421  19.164  1049.7  546.21  111.61  10.400   \n",
       "15035  7.8879  1005.9  99.093  3.5059  19.414  1046.3  543.22  111.78  10.433   \n",
       "15036  7.2647  1006.3  99.496  3.4770  19.530  1037.7  537.32  110.19  10.483   \n",
       "15037  7.0060  1006.8  99.008  3.4486  19.377  1043.2  541.24  110.74  10.533   \n",
       "15038  6.9279  1007.2  97.533  3.4275  19.306  1049.9  545.85  111.58  10.583   \n",
       "\n",
       "           CO     NOX  \n",
       "0      3.1547  82.722  \n",
       "1      3.2363  82.776  \n",
       "2      3.2012  82.468  \n",
       "3      3.1923  82.670  \n",
       "4      3.2484  82.311  \n",
       "...       ...     ...  \n",
       "15034  4.5186  79.559  \n",
       "15035  4.8470  79.917  \n",
       "15036  7.9632  90.912  \n",
       "15037  6.2494  93.227  \n",
       "15038  4.9816  92.498  \n",
       "\n",
       "[15039 rows x 11 columns]"
      ]
     },
     "execution_count": 4,
     "metadata": {},
     "output_type": "execute_result"
    }
   ],
   "source": [
    "Gt"
   ]
  },
  {
   "cell_type": "code",
   "execution_count": 6,
   "metadata": {},
   "outputs": [
    {
     "name": "stdout",
     "output_type": "stream",
     "text": [
      "<class 'pandas.core.frame.DataFrame'>\n",
      "RangeIndex: 15039 entries, 0 to 15038\n",
      "Data columns (total 11 columns):\n",
      " #   Column  Non-Null Count  Dtype  \n",
      "---  ------  --------------  -----  \n",
      " 0   AT      15039 non-null  float64\n",
      " 1   AP      15039 non-null  float64\n",
      " 2   AH      15039 non-null  float64\n",
      " 3   AFDP    15039 non-null  float64\n",
      " 4   GTEP    15039 non-null  float64\n",
      " 5   TIT     15039 non-null  float64\n",
      " 6   TAT     15039 non-null  float64\n",
      " 7   TEY     15039 non-null  float64\n",
      " 8   CDP     15039 non-null  float64\n",
      " 9   CO      15039 non-null  float64\n",
      " 10  NOX     15039 non-null  float64\n",
      "dtypes: float64(11)\n",
      "memory usage: 1.3 MB\n"
     ]
    }
   ],
   "source": [
    "Gt.info()"
   ]
  },
  {
   "cell_type": "code",
   "execution_count": 9,
   "metadata": {},
   "outputs": [
    {
     "data": {
      "text/html": [
       "<div>\n",
       "<style scoped>\n",
       "    .dataframe tbody tr th:only-of-type {\n",
       "        vertical-align: middle;\n",
       "    }\n",
       "\n",
       "    .dataframe tbody tr th {\n",
       "        vertical-align: top;\n",
       "    }\n",
       "\n",
       "    .dataframe thead th {\n",
       "        text-align: right;\n",
       "    }\n",
       "</style>\n",
       "<table border=\"1\" class=\"dataframe\">\n",
       "  <thead>\n",
       "    <tr style=\"text-align: right;\">\n",
       "      <th></th>\n",
       "      <th>AT</th>\n",
       "      <th>AP</th>\n",
       "      <th>AH</th>\n",
       "      <th>AFDP</th>\n",
       "      <th>GTEP</th>\n",
       "      <th>TIT</th>\n",
       "      <th>TAT</th>\n",
       "      <th>TEY</th>\n",
       "      <th>CDP</th>\n",
       "      <th>CO</th>\n",
       "      <th>NOX</th>\n",
       "    </tr>\n",
       "  </thead>\n",
       "  <tbody>\n",
       "    <tr>\n",
       "      <th>count</th>\n",
       "      <td>15039.000000</td>\n",
       "      <td>15039.00000</td>\n",
       "      <td>15039.000000</td>\n",
       "      <td>15039.000000</td>\n",
       "      <td>15039.000000</td>\n",
       "      <td>15039.000000</td>\n",
       "      <td>15039.000000</td>\n",
       "      <td>15039.000000</td>\n",
       "      <td>15039.000000</td>\n",
       "      <td>15039.000000</td>\n",
       "      <td>15039.000000</td>\n",
       "    </tr>\n",
       "    <tr>\n",
       "      <th>mean</th>\n",
       "      <td>17.764381</td>\n",
       "      <td>1013.19924</td>\n",
       "      <td>79.124174</td>\n",
       "      <td>4.200294</td>\n",
       "      <td>25.419061</td>\n",
       "      <td>1083.798770</td>\n",
       "      <td>545.396183</td>\n",
       "      <td>134.188464</td>\n",
       "      <td>12.102353</td>\n",
       "      <td>1.972499</td>\n",
       "      <td>68.190934</td>\n",
       "    </tr>\n",
       "    <tr>\n",
       "      <th>std</th>\n",
       "      <td>7.574323</td>\n",
       "      <td>6.41076</td>\n",
       "      <td>13.793439</td>\n",
       "      <td>0.760197</td>\n",
       "      <td>4.173916</td>\n",
       "      <td>16.527806</td>\n",
       "      <td>7.866803</td>\n",
       "      <td>15.829717</td>\n",
       "      <td>1.103196</td>\n",
       "      <td>2.222206</td>\n",
       "      <td>10.470586</td>\n",
       "    </tr>\n",
       "    <tr>\n",
       "      <th>min</th>\n",
       "      <td>0.522300</td>\n",
       "      <td>985.85000</td>\n",
       "      <td>30.344000</td>\n",
       "      <td>2.087400</td>\n",
       "      <td>17.878000</td>\n",
       "      <td>1000.800000</td>\n",
       "      <td>512.450000</td>\n",
       "      <td>100.170000</td>\n",
       "      <td>9.904400</td>\n",
       "      <td>0.000388</td>\n",
       "      <td>27.765000</td>\n",
       "    </tr>\n",
       "    <tr>\n",
       "      <th>25%</th>\n",
       "      <td>11.408000</td>\n",
       "      <td>1008.90000</td>\n",
       "      <td>69.750000</td>\n",
       "      <td>3.723900</td>\n",
       "      <td>23.294000</td>\n",
       "      <td>1079.600000</td>\n",
       "      <td>542.170000</td>\n",
       "      <td>127.985000</td>\n",
       "      <td>11.622000</td>\n",
       "      <td>0.858055</td>\n",
       "      <td>61.303500</td>\n",
       "    </tr>\n",
       "    <tr>\n",
       "      <th>50%</th>\n",
       "      <td>18.186000</td>\n",
       "      <td>1012.80000</td>\n",
       "      <td>82.266000</td>\n",
       "      <td>4.186200</td>\n",
       "      <td>25.082000</td>\n",
       "      <td>1088.700000</td>\n",
       "      <td>549.890000</td>\n",
       "      <td>133.780000</td>\n",
       "      <td>12.025000</td>\n",
       "      <td>1.390200</td>\n",
       "      <td>66.601000</td>\n",
       "    </tr>\n",
       "    <tr>\n",
       "      <th>75%</th>\n",
       "      <td>23.862500</td>\n",
       "      <td>1016.90000</td>\n",
       "      <td>90.043500</td>\n",
       "      <td>4.550900</td>\n",
       "      <td>27.184000</td>\n",
       "      <td>1096.000000</td>\n",
       "      <td>550.060000</td>\n",
       "      <td>140.895000</td>\n",
       "      <td>12.578000</td>\n",
       "      <td>2.160400</td>\n",
       "      <td>73.935500</td>\n",
       "    </tr>\n",
       "    <tr>\n",
       "      <th>max</th>\n",
       "      <td>34.929000</td>\n",
       "      <td>1034.20000</td>\n",
       "      <td>100.200000</td>\n",
       "      <td>7.610600</td>\n",
       "      <td>37.402000</td>\n",
       "      <td>1100.800000</td>\n",
       "      <td>550.610000</td>\n",
       "      <td>174.610000</td>\n",
       "      <td>15.081000</td>\n",
       "      <td>44.103000</td>\n",
       "      <td>119.890000</td>\n",
       "    </tr>\n",
       "  </tbody>\n",
       "</table>\n",
       "</div>"
      ],
      "text/plain": [
       "                 AT           AP            AH          AFDP          GTEP  \\\n",
       "count  15039.000000  15039.00000  15039.000000  15039.000000  15039.000000   \n",
       "mean      17.764381   1013.19924     79.124174      4.200294     25.419061   \n",
       "std        7.574323      6.41076     13.793439      0.760197      4.173916   \n",
       "min        0.522300    985.85000     30.344000      2.087400     17.878000   \n",
       "25%       11.408000   1008.90000     69.750000      3.723900     23.294000   \n",
       "50%       18.186000   1012.80000     82.266000      4.186200     25.082000   \n",
       "75%       23.862500   1016.90000     90.043500      4.550900     27.184000   \n",
       "max       34.929000   1034.20000    100.200000      7.610600     37.402000   \n",
       "\n",
       "                TIT           TAT           TEY           CDP            CO  \\\n",
       "count  15039.000000  15039.000000  15039.000000  15039.000000  15039.000000   \n",
       "mean    1083.798770    545.396183    134.188464     12.102353      1.972499   \n",
       "std       16.527806      7.866803     15.829717      1.103196      2.222206   \n",
       "min     1000.800000    512.450000    100.170000      9.904400      0.000388   \n",
       "25%     1079.600000    542.170000    127.985000     11.622000      0.858055   \n",
       "50%     1088.700000    549.890000    133.780000     12.025000      1.390200   \n",
       "75%     1096.000000    550.060000    140.895000     12.578000      2.160400   \n",
       "max     1100.800000    550.610000    174.610000     15.081000     44.103000   \n",
       "\n",
       "                NOX  \n",
       "count  15039.000000  \n",
       "mean      68.190934  \n",
       "std       10.470586  \n",
       "min       27.765000  \n",
       "25%       61.303500  \n",
       "50%       66.601000  \n",
       "75%       73.935500  \n",
       "max      119.890000  "
      ]
     },
     "execution_count": 9,
     "metadata": {},
     "output_type": "execute_result"
    }
   ],
   "source": [
    "Gt.describe()"
   ]
  },
  {
   "cell_type": "code",
   "execution_count": 10,
   "metadata": {},
   "outputs": [
    {
     "data": {
      "text/plain": [
       "<matplotlib.collections.PathCollection at 0x21ac4310cc8>"
      ]
     },
     "execution_count": 10,
     "metadata": {},
     "output_type": "execute_result"
    },
    {
     "data": {
      "image/png": "[encoded data removed]",
      "text/plain": [
       "<Figure size 432x288 with 1 Axes>"
      ]
     },
     "metadata": {
      "needs_background": "light"
     },
     "output_type": "display_data"
    }
   ],
   "source": [
    "import matplotlib.pyplot as plt\n",
    "plt.scatter(x=\"CDP\",y=\"TEY\",data=Gt)"
   ]
  },
  {
   "cell_type": "code",
   "execution_count": 11,
   "metadata": {},
   "outputs": [
    {
     "data": {
      "text/plain": [
       "<matplotlib.axes._subplots.AxesSubplot at 0x21ac43a4408>"
      ]
     },
     "execution_count": 11,
     "metadata": {},
     "output_type": "execute_result"
    },
    {
     "data": {
      "image/png": "[encoded data removed]",
      "text/plain": [
       "<Figure size 432x288 with 1 Axes>"
      ]
     },
     "metadata": {
      "needs_background": "light"
     },
     "output_type": "display_data"
    }
   ],
   "source": [
    "sns.barplot(data=Gt)"
   ]
  },
  {
   "cell_type": "code",
   "execution_count": 12,
   "metadata": {},
   "outputs": [
    {
     "data": {
      "text/plain": [
       "(array([ 247., 2671.,  474.,  528., 7145.,  462.,  989., 1215., 1160.,\n",
       "         148.]),\n",
       " array([100.17 , 107.614, 115.058, 122.502, 129.946, 137.39 , 144.834,\n",
       "        152.278, 159.722, 167.166, 174.61 ]),\n",
       " <a list of 10 Patch objects>)"
      ]
     },
     "execution_count": 12,
     "metadata": {},
     "output_type": "execute_result"
    },
    {
     "data": {
      "image/png": "[encoded data removed]",
      "text/plain": [
       "<Figure size 432x288 with 1 Axes>"
      ]
     },
     "metadata": {
      "needs_background": "light"
     },
     "output_type": "display_data"
    }
   ],
   "source": [
    "plt.hist(Gt['TEY']) "
   ]
  },
  {
   "cell_type": "code",
   "execution_count": 13,
   "metadata": {},
   "outputs": [],
   "source": [
    "from sklearn.preprocessing import StandardScaler"
   ]
  },
  {
   "cell_type": "code",
   "execution_count": 15,
   "metadata": {},
   "outputs": [],
   "source": [
    "scaler = StandardScaler()\n",
    "standardized_Gt=scaler.fit_transform(Gt)\n",
    "df=pd.DataFrame(standardized_Gt, columns=Gt.columns)"
   ]
  },
  {
   "cell_type": "code",
   "execution_count": 16,
   "metadata": {},
   "outputs": [
    {
     "data": {
      "text/html": [
       "<div>\n",
       "<style scoped>\n",
       "    .dataframe tbody tr th:only-of-type {\n",
       "        vertical-align: middle;\n",
       "    }\n",
       "\n",
       "    .dataframe tbody tr th {\n",
       "        vertical-align: top;\n",
       "    }\n",
       "\n",
       "    .dataframe thead th {\n",
       "        text-align: right;\n",
       "    }\n",
       "</style>\n",
       "<table border=\"1\" class=\"dataframe\">\n",
       "  <thead>\n",
       "    <tr style=\"text-align: right;\">\n",
       "      <th></th>\n",
       "      <th>AT</th>\n",
       "      <th>AP</th>\n",
       "      <th>AH</th>\n",
       "      <th>AFDP</th>\n",
       "      <th>GTEP</th>\n",
       "      <th>TIT</th>\n",
       "      <th>TAT</th>\n",
       "      <th>TEY</th>\n",
       "      <th>CDP</th>\n",
       "      <th>CO</th>\n",
       "      <th>NOX</th>\n",
       "    </tr>\n",
       "  </thead>\n",
       "  <tbody>\n",
       "    <tr>\n",
       "      <th>0</th>\n",
       "      <td>-1.439778</td>\n",
       "      <td>-0.826644</td>\n",
       "      <td>1.281436</td>\n",
       "      <td>-0.921232</td>\n",
       "      <td>-1.379101</td>\n",
       "      <td>-1.488376</td>\n",
       "      <td>0.585240</td>\n",
       "      <td>-1.231172</td>\n",
       "      <td>-1.357331</td>\n",
       "      <td>0.532012</td>\n",
       "      <td>1.387845</td>\n",
       "    </tr>\n",
       "    <tr>\n",
       "      <th>1</th>\n",
       "      <td>-1.449601</td>\n",
       "      <td>-0.748647</td>\n",
       "      <td>1.304564</td>\n",
       "      <td>-0.921495</td>\n",
       "      <td>-1.363528</td>\n",
       "      <td>-1.482325</td>\n",
       "      <td>0.585240</td>\n",
       "      <td>-1.229909</td>\n",
       "      <td>-1.363676</td>\n",
       "      <td>0.568733</td>\n",
       "      <td>1.393002</td>\n",
       "    </tr>\n",
       "    <tr>\n",
       "      <th>2</th>\n",
       "      <td>-1.434721</td>\n",
       "      <td>-0.686250</td>\n",
       "      <td>1.219086</td>\n",
       "      <td>-0.944385</td>\n",
       "      <td>-1.351309</td>\n",
       "      <td>-1.476275</td>\n",
       "      <td>0.568715</td>\n",
       "      <td>-1.230541</td>\n",
       "      <td>-1.360957</td>\n",
       "      <td>0.552938</td>\n",
       "      <td>1.363586</td>\n",
       "    </tr>\n",
       "    <tr>\n",
       "      <th>3</th>\n",
       "      <td>-1.413702</td>\n",
       "      <td>-0.623853</td>\n",
       "      <td>1.169060</td>\n",
       "      <td>-0.946884</td>\n",
       "      <td>-1.348194</td>\n",
       "      <td>-1.464173</td>\n",
       "      <td>0.583969</td>\n",
       "      <td>-1.229909</td>\n",
       "      <td>-1.356424</td>\n",
       "      <td>0.548933</td>\n",
       "      <td>1.382878</td>\n",
       "    </tr>\n",
       "    <tr>\n",
       "      <th>4</th>\n",
       "      <td>-1.368693</td>\n",
       "      <td>-0.545857</td>\n",
       "      <td>1.161883</td>\n",
       "      <td>-0.924389</td>\n",
       "      <td>-1.354663</td>\n",
       "      <td>-1.458123</td>\n",
       "      <td>0.582698</td>\n",
       "      <td>-1.229909</td>\n",
       "      <td>-1.350985</td>\n",
       "      <td>0.574179</td>\n",
       "      <td>1.348591</td>\n",
       "    </tr>\n",
       "    <tr>\n",
       "      <th>...</th>\n",
       "      <td>...</td>\n",
       "      <td>...</td>\n",
       "      <td>...</td>\n",
       "      <td>...</td>\n",
       "      <td>...</td>\n",
       "      <td>...</td>\n",
       "      <td>...</td>\n",
       "      <td>...</td>\n",
       "      <td>...</td>\n",
       "      <td>...</td>\n",
       "      <td>...</td>\n",
       "    </tr>\n",
       "    <tr>\n",
       "      <th>15034</th>\n",
       "      <td>-1.153182</td>\n",
       "      <td>-1.185428</td>\n",
       "      <td>1.401860</td>\n",
       "      <td>-0.865850</td>\n",
       "      <td>-1.498657</td>\n",
       "      <td>-2.063184</td>\n",
       "      <td>0.103453</td>\n",
       "      <td>-1.426381</td>\n",
       "      <td>-1.543161</td>\n",
       "      <td>1.145792</td>\n",
       "      <td>1.085751</td>\n",
       "    </tr>\n",
       "    <tr>\n",
       "      <th>15035</th>\n",
       "      <td>-1.303986</td>\n",
       "      <td>-1.138630</td>\n",
       "      <td>1.447753</td>\n",
       "      <td>-0.913470</td>\n",
       "      <td>-1.438759</td>\n",
       "      <td>-2.268905</td>\n",
       "      <td>-0.276638</td>\n",
       "      <td>-1.415642</td>\n",
       "      <td>-1.513247</td>\n",
       "      <td>1.293578</td>\n",
       "      <td>1.119943</td>\n",
       "    </tr>\n",
       "    <tr>\n",
       "      <th>15036</th>\n",
       "      <td>-1.386267</td>\n",
       "      <td>-1.076233</td>\n",
       "      <td>1.476971</td>\n",
       "      <td>-0.951488</td>\n",
       "      <td>-1.410967</td>\n",
       "      <td>-2.789257</td>\n",
       "      <td>-1.026650</td>\n",
       "      <td>-1.516089</td>\n",
       "      <td>-1.467922</td>\n",
       "      <td>2.695925</td>\n",
       "      <td>2.170062</td>\n",
       "    </tr>\n",
       "    <tr>\n",
       "      <th>15037</th>\n",
       "      <td>-1.420423</td>\n",
       "      <td>-0.998236</td>\n",
       "      <td>1.441590</td>\n",
       "      <td>-0.988848</td>\n",
       "      <td>-1.447624</td>\n",
       "      <td>-2.456474</td>\n",
       "      <td>-0.528337</td>\n",
       "      <td>-1.481343</td>\n",
       "      <td>-1.422598</td>\n",
       "      <td>1.924683</td>\n",
       "      <td>2.391165</td>\n",
       "    </tr>\n",
       "    <tr>\n",
       "      <th>15038</th>\n",
       "      <td>-1.430734</td>\n",
       "      <td>-0.935839</td>\n",
       "      <td>1.334652</td>\n",
       "      <td>-1.016605</td>\n",
       "      <td>-1.464635</td>\n",
       "      <td>-2.051083</td>\n",
       "      <td>0.057689</td>\n",
       "      <td>-1.428277</td>\n",
       "      <td>-1.377273</td>\n",
       "      <td>1.354150</td>\n",
       "      <td>2.321539</td>\n",
       "    </tr>\n",
       "  </tbody>\n",
       "</table>\n",
       "<p>15039 rows × 11 columns</p>\n",
       "</div>"
      ],
      "text/plain": [
       "             AT        AP        AH      AFDP      GTEP       TIT       TAT  \\\n",
       "0     -1.439778 -0.826644  1.281436 -0.921232 -1.379101 -1.488376  0.585240   \n",
       "1     -1.449601 -0.748647  1.304564 -0.921495 -1.363528 -1.482325  0.585240   \n",
       "2     -1.434721 -0.686250  1.219086 -0.944385 -1.351309 -1.476275  0.568715   \n",
       "3     -1.413702 -0.623853  1.169060 -0.946884 -1.348194 -1.464173  0.583969   \n",
       "4     -1.368693 -0.545857  1.161883 -0.924389 -1.354663 -1.458123  0.582698   \n",
       "...         ...       ...       ...       ...       ...       ...       ...   \n",
       "15034 -1.153182 -1.185428  1.401860 -0.865850 -1.498657 -2.063184  0.103453   \n",
       "15035 -1.303986 -1.138630  1.447753 -0.913470 -1.438759 -2.268905 -0.276638   \n",
       "15036 -1.386267 -1.076233  1.476971 -0.951488 -1.410967 -2.789257 -1.026650   \n",
       "15037 -1.420423 -0.998236  1.441590 -0.988848 -1.447624 -2.456474 -0.528337   \n",
       "15038 -1.430734 -0.935839  1.334652 -1.016605 -1.464635 -2.051083  0.057689   \n",
       "\n",
       "            TEY       CDP        CO       NOX  \n",
       "0     -1.231172 -1.357331  0.532012  1.387845  \n",
       "1     -1.229909 -1.363676  0.568733  1.393002  \n",
       "2     -1.230541 -1.360957  0.552938  1.363586  \n",
       "3     -1.229909 -1.356424  0.548933  1.382878  \n",
       "4     -1.229909 -1.350985  0.574179  1.348591  \n",
       "...         ...       ...       ...       ...  \n",
       "15034 -1.426381 -1.543161  1.145792  1.085751  \n",
       "15035 -1.415642 -1.513247  1.293578  1.119943  \n",
       "15036 -1.516089 -1.467922  2.695925  2.170062  \n",
       "15037 -1.481343 -1.422598  1.924683  2.391165  \n",
       "15038 -1.428277 -1.377273  1.354150  2.321539  \n",
       "\n",
       "[15039 rows x 11 columns]"
      ]
     },
     "execution_count": 16,
     "metadata": {},
     "output_type": "execute_result"
    }
   ],
   "source": [
    "df"
   ]
  },
  {
   "cell_type": "code",
   "execution_count": 17,
   "metadata": {},
   "outputs": [
    {
     "name": "stdout",
     "output_type": "stream",
     "text": [
      "<class 'pandas.core.frame.DataFrame'>\n",
      "RangeIndex: 15039 entries, 0 to 15038\n",
      "Data columns (total 11 columns):\n",
      " #   Column  Non-Null Count  Dtype  \n",
      "---  ------  --------------  -----  \n",
      " 0   AT      15039 non-null  float64\n",
      " 1   AP      15039 non-null  float64\n",
      " 2   AH      15039 non-null  float64\n",
      " 3   AFDP    15039 non-null  float64\n",
      " 4   GTEP    15039 non-null  float64\n",
      " 5   TIT     15039 non-null  float64\n",
      " 6   TAT     15039 non-null  float64\n",
      " 7   TEY     15039 non-null  float64\n",
      " 8   CDP     15039 non-null  float64\n",
      " 9   CO      15039 non-null  float64\n",
      " 10  NOX     15039 non-null  float64\n",
      "dtypes: float64(11)\n",
      "memory usage: 1.3 MB\n"
     ]
    }
   ],
   "source": [
    "df.info()"
   ]
  },
  {
   "cell_type": "code",
   "execution_count": 18,
   "metadata": {},
   "outputs": [
    {
     "data": {
      "text/html": [
       "<div>\n",
       "<style scoped>\n",
       "    .dataframe tbody tr th:only-of-type {\n",
       "        vertical-align: middle;\n",
       "    }\n",
       "\n",
       "    .dataframe tbody tr th {\n",
       "        vertical-align: top;\n",
       "    }\n",
       "\n",
       "    .dataframe thead th {\n",
       "        text-align: right;\n",
       "    }\n",
       "</style>\n",
       "<table border=\"1\" class=\"dataframe\">\n",
       "  <thead>\n",
       "    <tr style=\"text-align: right;\">\n",
       "      <th></th>\n",
       "      <th>AT</th>\n",
       "      <th>AP</th>\n",
       "      <th>AH</th>\n",
       "      <th>AFDP</th>\n",
       "      <th>GTEP</th>\n",
       "      <th>TIT</th>\n",
       "      <th>TAT</th>\n",
       "      <th>TEY</th>\n",
       "      <th>CDP</th>\n",
       "      <th>CO</th>\n",
       "      <th>NOX</th>\n",
       "    </tr>\n",
       "  </thead>\n",
       "  <tbody>\n",
       "    <tr>\n",
       "      <th>count</th>\n",
       "      <td>1.503900e+04</td>\n",
       "      <td>1.503900e+04</td>\n",
       "      <td>1.503900e+04</td>\n",
       "      <td>1.503900e+04</td>\n",
       "      <td>1.503900e+04</td>\n",
       "      <td>1.503900e+04</td>\n",
       "      <td>1.503900e+04</td>\n",
       "      <td>1.503900e+04</td>\n",
       "      <td>1.503900e+04</td>\n",
       "      <td>1.503900e+04</td>\n",
       "      <td>1.503900e+04</td>\n",
       "    </tr>\n",
       "    <tr>\n",
       "      <th>mean</th>\n",
       "      <td>-2.320107e-16</td>\n",
       "      <td>-1.925280e-14</td>\n",
       "      <td>1.844983e-16</td>\n",
       "      <td>3.810001e-16</td>\n",
       "      <td>1.107344e-16</td>\n",
       "      <td>-2.324212e-15</td>\n",
       "      <td>1.744899e-15</td>\n",
       "      <td>1.406445e-15</td>\n",
       "      <td>3.640356e-16</td>\n",
       "      <td>1.953355e-17</td>\n",
       "      <td>-6.862579e-17</td>\n",
       "    </tr>\n",
       "    <tr>\n",
       "      <th>std</th>\n",
       "      <td>1.000033e+00</td>\n",
       "      <td>1.000033e+00</td>\n",
       "      <td>1.000033e+00</td>\n",
       "      <td>1.000033e+00</td>\n",
       "      <td>1.000033e+00</td>\n",
       "      <td>1.000033e+00</td>\n",
       "      <td>1.000033e+00</td>\n",
       "      <td>1.000033e+00</td>\n",
       "      <td>1.000033e+00</td>\n",
       "      <td>1.000033e+00</td>\n",
       "      <td>1.000033e+00</td>\n",
       "    </tr>\n",
       "    <tr>\n",
       "      <th>min</th>\n",
       "      <td>-2.276462e+00</td>\n",
       "      <td>-4.266288e+00</td>\n",
       "      <td>-3.536594e+00</td>\n",
       "      <td>-2.779497e+00</td>\n",
       "      <td>-1.806771e+00</td>\n",
       "      <td>-5.021933e+00</td>\n",
       "      <td>-4.188141e+00</td>\n",
       "      <td>-2.149097e+00</td>\n",
       "      <td>-1.992416e+00</td>\n",
       "      <td>-8.874862e-01</td>\n",
       "      <td>-3.861033e+00</td>\n",
       "    </tr>\n",
       "    <tr>\n",
       "      <th>25%</th>\n",
       "      <td>-8.392292e-01</td>\n",
       "      <td>-6.706510e-01</td>\n",
       "      <td>-6.796337e-01</td>\n",
       "      <td>-6.266930e-01</td>\n",
       "      <td>-5.091458e-01</td>\n",
       "      <td>-2.540512e-01</td>\n",
       "      <td>-4.101146e-01</td>\n",
       "      <td>-3.919003e-01</td>\n",
       "      <td>-4.354335e-01</td>\n",
       "      <td>-5.015202e-01</td>\n",
       "      <td>-6.578107e-01</td>\n",
       "    </tr>\n",
       "    <tr>\n",
       "      <th>50%</th>\n",
       "      <td>5.566605e-02</td>\n",
       "      <td>-6.227861e-02</td>\n",
       "      <td>2.277844e-01</td>\n",
       "      <td>-1.854065e-02</td>\n",
       "      <td>-8.075681e-02</td>\n",
       "      <td>2.965544e-01</td>\n",
       "      <td>5.712570e-01</td>\n",
       "      <td>-2.580448e-02</td>\n",
       "      <td>-7.011925e-02</td>\n",
       "      <td>-2.620452e-01</td>\n",
       "      <td>-1.518527e-01</td>\n",
       "    </tr>\n",
       "    <tr>\n",
       "      <th>75%</th>\n",
       "      <td>8.051309e-01</td>\n",
       "      <td>5.772924e-01</td>\n",
       "      <td>7.916582e-01</td>\n",
       "      <td>4.612196e-01</td>\n",
       "      <td>4.228638e-01</td>\n",
       "      <td>7.382490e-01</td>\n",
       "      <td>5.928675e-01</td>\n",
       "      <td>4.236815e-01</td>\n",
       "      <td>4.311680e-01</td>\n",
       "      <td>8.455882e-02</td>\n",
       "      <td>5.486567e-01</td>\n",
       "    </tr>\n",
       "    <tr>\n",
       "      <th>max</th>\n",
       "      <td>2.266234e+00</td>\n",
       "      <td>3.275970e+00</td>\n",
       "      <td>1.528011e+00</td>\n",
       "      <td>4.486233e+00</td>\n",
       "      <td>2.871006e+00</td>\n",
       "      <td>1.028678e+00</td>\n",
       "      <td>6.627839e-01</td>\n",
       "      <td>2.553607e+00</td>\n",
       "      <td>2.700105e+00</td>\n",
       "      <td>1.895949e+01</td>\n",
       "      <td>4.937717e+00</td>\n",
       "    </tr>\n",
       "  </tbody>\n",
       "</table>\n",
       "</div>"
      ],
      "text/plain": [
       "                 AT            AP            AH          AFDP          GTEP  \\\n",
       "count  1.503900e+04  1.503900e+04  1.503900e+04  1.503900e+04  1.503900e+04   \n",
       "mean  -2.320107e-16 -1.925280e-14  1.844983e-16  3.810001e-16  1.107344e-16   \n",
       "std    1.000033e+00  1.000033e+00  1.000033e+00  1.000033e+00  1.000033e+00   \n",
       "min   -2.276462e+00 -4.266288e+00 -3.536594e+00 -2.779497e+00 -1.806771e+00   \n",
       "25%   -8.392292e-01 -6.706510e-01 -6.796337e-01 -6.266930e-01 -5.091458e-01   \n",
       "50%    5.566605e-02 -6.227861e-02  2.277844e-01 -1.854065e-02 -8.075681e-02   \n",
       "75%    8.051309e-01  5.772924e-01  7.916582e-01  4.612196e-01  4.228638e-01   \n",
       "max    2.266234e+00  3.275970e+00  1.528011e+00  4.486233e+00  2.871006e+00   \n",
       "\n",
       "                TIT           TAT           TEY           CDP            CO  \\\n",
       "count  1.503900e+04  1.503900e+04  1.503900e+04  1.503900e+04  1.503900e+04   \n",
       "mean  -2.324212e-15  1.744899e-15  1.406445e-15  3.640356e-16  1.953355e-17   \n",
       "std    1.000033e+00  1.000033e+00  1.000033e+00  1.000033e+00  1.000033e+00   \n",
       "min   -5.021933e+00 -4.188141e+00 -2.149097e+00 -1.992416e+00 -8.874862e-01   \n",
       "25%   -2.540512e-01 -4.101146e-01 -3.919003e-01 -4.354335e-01 -5.015202e-01   \n",
       "50%    2.965544e-01  5.712570e-01 -2.580448e-02 -7.011925e-02 -2.620452e-01   \n",
       "75%    7.382490e-01  5.928675e-01  4.236815e-01  4.311680e-01  8.455882e-02   \n",
       "max    1.028678e+00  6.627839e-01  2.553607e+00  2.700105e+00  1.895949e+01   \n",
       "\n",
       "                NOX  \n",
       "count  1.503900e+04  \n",
       "mean  -6.862579e-17  \n",
       "std    1.000033e+00  \n",
       "min   -3.861033e+00  \n",
       "25%   -6.578107e-01  \n",
       "50%   -1.518527e-01  \n",
       "75%    5.486567e-01  \n",
       "max    4.937717e+00  "
      ]
     },
     "execution_count": 18,
     "metadata": {},
     "output_type": "execute_result"
    }
   ],
   "source": [
    "df.describe()"
   ]
  },
  {
   "cell_type": "code",
   "execution_count": 19,
   "metadata": {},
   "outputs": [],
   "source": [
    "X=df.drop([\"TEY\"],axis=1)\n",
    "y=df[\"TEY\"]"
   ]
  },
  {
   "cell_type": "code",
   "execution_count": 20,
   "metadata": {},
   "outputs": [
    {
     "data": {
      "text/html": [
       "<div>\n",
       "<style scoped>\n",
       "    .dataframe tbody tr th:only-of-type {\n",
       "        vertical-align: middle;\n",
       "    }\n",
       "\n",
       "    .dataframe tbody tr th {\n",
       "        vertical-align: top;\n",
       "    }\n",
       "\n",
       "    .dataframe thead th {\n",
       "        text-align: right;\n",
       "    }\n",
       "</style>\n",
       "<table border=\"1\" class=\"dataframe\">\n",
       "  <thead>\n",
       "    <tr style=\"text-align: right;\">\n",
       "      <th></th>\n",
       "      <th>AT</th>\n",
       "      <th>AP</th>\n",
       "      <th>AH</th>\n",
       "      <th>AFDP</th>\n",
       "      <th>GTEP</th>\n",
       "      <th>TIT</th>\n",
       "      <th>TAT</th>\n",
       "      <th>CDP</th>\n",
       "      <th>CO</th>\n",
       "      <th>NOX</th>\n",
       "    </tr>\n",
       "  </thead>\n",
       "  <tbody>\n",
       "    <tr>\n",
       "      <th>0</th>\n",
       "      <td>-1.439778</td>\n",
       "      <td>-0.826644</td>\n",
       "      <td>1.281436</td>\n",
       "      <td>-0.921232</td>\n",
       "      <td>-1.379101</td>\n",
       "      <td>-1.488376</td>\n",
       "      <td>0.585240</td>\n",
       "      <td>-1.357331</td>\n",
       "      <td>0.532012</td>\n",
       "      <td>1.387845</td>\n",
       "    </tr>\n",
       "    <tr>\n",
       "      <th>1</th>\n",
       "      <td>-1.449601</td>\n",
       "      <td>-0.748647</td>\n",
       "      <td>1.304564</td>\n",
       "      <td>-0.921495</td>\n",
       "      <td>-1.363528</td>\n",
       "      <td>-1.482325</td>\n",
       "      <td>0.585240</td>\n",
       "      <td>-1.363676</td>\n",
       "      <td>0.568733</td>\n",
       "      <td>1.393002</td>\n",
       "    </tr>\n",
       "    <tr>\n",
       "      <th>2</th>\n",
       "      <td>-1.434721</td>\n",
       "      <td>-0.686250</td>\n",
       "      <td>1.219086</td>\n",
       "      <td>-0.944385</td>\n",
       "      <td>-1.351309</td>\n",
       "      <td>-1.476275</td>\n",
       "      <td>0.568715</td>\n",
       "      <td>-1.360957</td>\n",
       "      <td>0.552938</td>\n",
       "      <td>1.363586</td>\n",
       "    </tr>\n",
       "    <tr>\n",
       "      <th>3</th>\n",
       "      <td>-1.413702</td>\n",
       "      <td>-0.623853</td>\n",
       "      <td>1.169060</td>\n",
       "      <td>-0.946884</td>\n",
       "      <td>-1.348194</td>\n",
       "      <td>-1.464173</td>\n",
       "      <td>0.583969</td>\n",
       "      <td>-1.356424</td>\n",
       "      <td>0.548933</td>\n",
       "      <td>1.382878</td>\n",
       "    </tr>\n",
       "    <tr>\n",
       "      <th>4</th>\n",
       "      <td>-1.368693</td>\n",
       "      <td>-0.545857</td>\n",
       "      <td>1.161883</td>\n",
       "      <td>-0.924389</td>\n",
       "      <td>-1.354663</td>\n",
       "      <td>-1.458123</td>\n",
       "      <td>0.582698</td>\n",
       "      <td>-1.350985</td>\n",
       "      <td>0.574179</td>\n",
       "      <td>1.348591</td>\n",
       "    </tr>\n",
       "    <tr>\n",
       "      <th>...</th>\n",
       "      <td>...</td>\n",
       "      <td>...</td>\n",
       "      <td>...</td>\n",
       "      <td>...</td>\n",
       "      <td>...</td>\n",
       "      <td>...</td>\n",
       "      <td>...</td>\n",
       "      <td>...</td>\n",
       "      <td>...</td>\n",
       "      <td>...</td>\n",
       "    </tr>\n",
       "    <tr>\n",
       "      <th>15034</th>\n",
       "      <td>-1.153182</td>\n",
       "      <td>-1.185428</td>\n",
       "      <td>1.401860</td>\n",
       "      <td>-0.865850</td>\n",
       "      <td>-1.498657</td>\n",
       "      <td>-2.063184</td>\n",
       "      <td>0.103453</td>\n",
       "      <td>-1.543161</td>\n",
       "      <td>1.145792</td>\n",
       "      <td>1.085751</td>\n",
       "    </tr>\n",
       "    <tr>\n",
       "      <th>15035</th>\n",
       "      <td>-1.303986</td>\n",
       "      <td>-1.138630</td>\n",
       "      <td>1.447753</td>\n",
       "      <td>-0.913470</td>\n",
       "      <td>-1.438759</td>\n",
       "      <td>-2.268905</td>\n",
       "      <td>-0.276638</td>\n",
       "      <td>-1.513247</td>\n",
       "      <td>1.293578</td>\n",
       "      <td>1.119943</td>\n",
       "    </tr>\n",
       "    <tr>\n",
       "      <th>15036</th>\n",
       "      <td>-1.386267</td>\n",
       "      <td>-1.076233</td>\n",
       "      <td>1.476971</td>\n",
       "      <td>-0.951488</td>\n",
       "      <td>-1.410967</td>\n",
       "      <td>-2.789257</td>\n",
       "      <td>-1.026650</td>\n",
       "      <td>-1.467922</td>\n",
       "      <td>2.695925</td>\n",
       "      <td>2.170062</td>\n",
       "    </tr>\n",
       "    <tr>\n",
       "      <th>15037</th>\n",
       "      <td>-1.420423</td>\n",
       "      <td>-0.998236</td>\n",
       "      <td>1.441590</td>\n",
       "      <td>-0.988848</td>\n",
       "      <td>-1.447624</td>\n",
       "      <td>-2.456474</td>\n",
       "      <td>-0.528337</td>\n",
       "      <td>-1.422598</td>\n",
       "      <td>1.924683</td>\n",
       "      <td>2.391165</td>\n",
       "    </tr>\n",
       "    <tr>\n",
       "      <th>15038</th>\n",
       "      <td>-1.430734</td>\n",
       "      <td>-0.935839</td>\n",
       "      <td>1.334652</td>\n",
       "      <td>-1.016605</td>\n",
       "      <td>-1.464635</td>\n",
       "      <td>-2.051083</td>\n",
       "      <td>0.057689</td>\n",
       "      <td>-1.377273</td>\n",
       "      <td>1.354150</td>\n",
       "      <td>2.321539</td>\n",
       "    </tr>\n",
       "  </tbody>\n",
       "</table>\n",
       "<p>15039 rows × 10 columns</p>\n",
       "</div>"
      ],
      "text/plain": [
       "             AT        AP        AH      AFDP      GTEP       TIT       TAT  \\\n",
       "0     -1.439778 -0.826644  1.281436 -0.921232 -1.379101 -1.488376  0.585240   \n",
       "1     -1.449601 -0.748647  1.304564 -0.921495 -1.363528 -1.482325  0.585240   \n",
       "2     -1.434721 -0.686250  1.219086 -0.944385 -1.351309 -1.476275  0.568715   \n",
       "3     -1.413702 -0.623853  1.169060 -0.946884 -1.348194 -1.464173  0.583969   \n",
       "4     -1.368693 -0.545857  1.161883 -0.924389 -1.354663 -1.458123  0.582698   \n",
       "...         ...       ...       ...       ...       ...       ...       ...   \n",
       "15034 -1.153182 -1.185428  1.401860 -0.865850 -1.498657 -2.063184  0.103453   \n",
       "15035 -1.303986 -1.138630  1.447753 -0.913470 -1.438759 -2.268905 -0.276638   \n",
       "15036 -1.386267 -1.076233  1.476971 -0.951488 -1.410967 -2.789257 -1.026650   \n",
       "15037 -1.420423 -0.998236  1.441590 -0.988848 -1.447624 -2.456474 -0.528337   \n",
       "15038 -1.430734 -0.935839  1.334652 -1.016605 -1.464635 -2.051083  0.057689   \n",
       "\n",
       "            CDP        CO       NOX  \n",
       "0     -1.357331  0.532012  1.387845  \n",
       "1     -1.363676  0.568733  1.393002  \n",
       "2     -1.360957  0.552938  1.363586  \n",
       "3     -1.356424  0.548933  1.382878  \n",
       "4     -1.350985  0.574179  1.348591  \n",
       "...         ...       ...       ...  \n",
       "15034 -1.543161  1.145792  1.085751  \n",
       "15035 -1.513247  1.293578  1.119943  \n",
       "15036 -1.467922  2.695925  2.170062  \n",
       "15037 -1.422598  1.924683  2.391165  \n",
       "15038 -1.377273  1.354150  2.321539  \n",
       "\n",
       "[15039 rows x 10 columns]"
      ]
     },
     "execution_count": 20,
     "metadata": {},
     "output_type": "execute_result"
    }
   ],
   "source": [
    "X"
   ]
  },
  {
   "cell_type": "code",
   "execution_count": 21,
   "metadata": {},
   "outputs": [
    {
     "data": {
      "text/plain": [
       "0       -1.231172\n",
       "1       -1.229909\n",
       "2       -1.230541\n",
       "3       -1.229909\n",
       "4       -1.229909\n",
       "           ...   \n",
       "15034   -1.426381\n",
       "15035   -1.415642\n",
       "15036   -1.516089\n",
       "15037   -1.481343\n",
       "15038   -1.428277\n",
       "Name: TEY, Length: 15039, dtype: float64"
      ]
     },
     "execution_count": 21,
     "metadata": {},
     "output_type": "execute_result"
    }
   ],
   "source": [
    "y"
   ]
  },
  {
   "cell_type": "code",
   "execution_count": 22,
   "metadata": {},
   "outputs": [],
   "source": [
    "from sklearn.model_selection import GridSearchCV, KFold\n",
    "from keras.models import Sequential\n",
    "from keras.layers import Dense\n",
    "from keras.wrappers.scikit_learn import KerasClassifier"
   ]
  },
  {
   "cell_type": "code",
   "execution_count": 23,
   "metadata": {},
   "outputs": [],
   "source": [
    "from tensorflow.keras.optimizers import Adam, SGD, RMSprop"
   ]
  },
  {
   "cell_type": "code",
   "execution_count": 24,
   "metadata": {},
   "outputs": [
    {
     "data": {
      "text/plain": [
       "10"
      ]
     },
     "execution_count": 24,
     "metadata": {},
     "output_type": "execute_result"
    }
   ],
   "source": [
    "n_features =X.shape[1]\n",
    "n_features"
   ]
  },
  {
   "cell_type": "code",
   "execution_count": 25,
   "metadata": {},
   "outputs": [],
   "source": [
    "def create_model():\n",
    "    model = Sequential()\n",
    "    model.add(Dense(12, input_dim=n_features, kernel_initializer='uniform', activation='relu'))\n",
    "    model.add(Dense(8, kernel_initializer='uniform', activation='relu'))\n",
    "    model.add(Dense(1, kernel_initializer='uniform', activation='sigmoid'))\n",
    "    optmizer =RMSprop(0.03)\n",
    "    model.compile(loss='mean_squared_error', optimizer=optmizer, metrics=['accuracy'])\n",
    "    return model"
   ]
  },
  {
   "cell_type": "code",
   "execution_count": 26,
   "metadata": {},
   "outputs": [
    {
     "name": "stderr",
     "output_type": "stream",
     "text": [
      "C:\\Users\\nitin\\anaconda3\\lib\\site-packages\\ipykernel_launcher.py:1: DeprecationWarning: KerasClassifier is deprecated, use Sci-Keras (https://github.com/adriangb/scikeras) instead.\n",
      "  \"\"\"Entry point for launching an IPython kernel.\n",
      "[Parallel(n_jobs=1)]: Using backend SequentialBackend with 1 concurrent workers.\n"
     ]
    },
    {
     "name": "stdout",
     "output_type": "stream",
     "text": [
      "Fitting 5 folds for each of 9 candidates, totalling 45 fits\n",
      "[CV] batch_size=10, epochs=10 ........................................\n",
      "[CV] ............ batch_size=10, epochs=10, score=0.000, total=  22.6s\n",
      "[CV] batch_size=10, epochs=10 ........................................\n"
     ]
    },
    {
     "name": "stderr",
     "output_type": "stream",
     "text": [
      "[Parallel(n_jobs=1)]: Done   1 out of   1 | elapsed:   22.5s remaining:    0.0s\n"
     ]
    },
    {
     "name": "stdout",
     "output_type": "stream",
     "text": [
      "[CV] ............ batch_size=10, epochs=10, score=0.000, total=  20.2s\n",
      "[CV] batch_size=10, epochs=10 ........................................\n"
     ]
    },
    {
     "name": "stderr",
     "output_type": "stream",
     "text": [
      "[Parallel(n_jobs=1)]: Done   2 out of   2 | elapsed:   42.7s remaining:    0.0s\n"
     ]
    },
    {
     "name": "stdout",
     "output_type": "stream",
     "text": [
      "[CV] ............ batch_size=10, epochs=10, score=0.000, total=  19.9s\n",
      "[CV] batch_size=10, epochs=10 ........................................\n"
     ]
    },
    {
     "name": "stderr",
     "output_type": "stream",
     "text": [
      "[Parallel(n_jobs=1)]: Done   3 out of   3 | elapsed:  1.0min remaining:    0.0s\n"
     ]
    },
    {
     "name": "stdout",
     "output_type": "stream",
     "text": [
      "[CV] ............ batch_size=10, epochs=10, score=0.000, total=  19.9s\n",
      "[CV] batch_size=10, epochs=10 ........................................\n"
     ]
    },
    {
     "name": "stderr",
     "output_type": "stream",
     "text": [
      "[Parallel(n_jobs=1)]: Done   4 out of   4 | elapsed:  1.4min remaining:    0.0s\n"
     ]
    },
    {
     "name": "stdout",
     "output_type": "stream",
     "text": [
      "[CV] ............ batch_size=10, epochs=10, score=0.000, total=  24.1s\n",
      "[CV] batch_size=10, epochs=50 ........................................\n"
     ]
    },
    {
     "name": "stderr",
     "output_type": "stream",
     "text": [
      "[Parallel(n_jobs=1)]: Done   5 out of   5 | elapsed:  1.8min remaining:    0.0s\n"
     ]
    },
    {
     "name": "stdout",
     "output_type": "stream",
     "text": [
      "[CV] ............ batch_size=10, epochs=50, score=0.000, total= 1.6min\n",
      "[CV] batch_size=10, epochs=50 ........................................\n"
     ]
    },
    {
     "name": "stderr",
     "output_type": "stream",
     "text": [
      "[Parallel(n_jobs=1)]: Done   6 out of   6 | elapsed:  3.4min remaining:    0.0s\n"
     ]
    },
    {
     "name": "stdout",
     "output_type": "stream",
     "text": [
      "[CV] ............ batch_size=10, epochs=50, score=0.000, total= 1.6min\n",
      "[CV] batch_size=10, epochs=50 ........................................\n"
     ]
    },
    {
     "name": "stderr",
     "output_type": "stream",
     "text": [
      "[Parallel(n_jobs=1)]: Done   7 out of   7 | elapsed:  5.0min remaining:    0.0s\n"
     ]
    },
    {
     "name": "stdout",
     "output_type": "stream",
     "text": [
      "[CV] ............ batch_size=10, epochs=50, score=0.000, total= 1.8min\n",
      "[CV] batch_size=10, epochs=50 ........................................\n"
     ]
    },
    {
     "name": "stderr",
     "output_type": "stream",
     "text": [
      "[Parallel(n_jobs=1)]: Done   8 out of   8 | elapsed:  6.8min remaining:    0.0s\n"
     ]
    },
    {
     "name": "stdout",
     "output_type": "stream",
     "text": [
      "[CV] ............ batch_size=10, epochs=50, score=0.000, total= 1.7min\n",
      "[CV] batch_size=10, epochs=50 ........................................\n"
     ]
    },
    {
     "name": "stderr",
     "output_type": "stream",
     "text": [
      "[Parallel(n_jobs=1)]: Done   9 out of   9 | elapsed:  8.5min remaining:    0.0s\n"
     ]
    },
    {
     "name": "stdout",
     "output_type": "stream",
     "text": [
      "[CV] ............ batch_size=10, epochs=50, score=0.000, total= 1.8min\n",
      "[CV] batch_size=10, epochs=100 .......................................\n",
      "[CV] ........... batch_size=10, epochs=100, score=0.000, total= 3.1min\n",
      "[CV] batch_size=10, epochs=100 .......................................\n",
      "[CV] ........... batch_size=10, epochs=100, score=0.000, total= 2.9min\n",
      "[CV] batch_size=10, epochs=100 .......................................\n",
      "[CV] ........... batch_size=10, epochs=100, score=0.000, total= 2.8min\n",
      "[CV] batch_size=10, epochs=100 .......................................\n",
      "[CV] ........... batch_size=10, epochs=100, score=0.000, total= 3.1min\n",
      "[CV] batch_size=10, epochs=100 .......................................\n",
      "[CV] ........... batch_size=10, epochs=100, score=0.000, total= 3.5min\n",
      "[CV] batch_size=20, epochs=10 ........................................\n",
      "[CV] ............ batch_size=20, epochs=10, score=0.000, total=  14.9s\n",
      "[CV] batch_size=20, epochs=10 ........................................\n",
      "[CV] ............ batch_size=20, epochs=10, score=0.000, total=  14.2s\n",
      "[CV] batch_size=20, epochs=10 ........................................\n",
      "[CV] ............ batch_size=20, epochs=10, score=0.000, total=  10.8s\n",
      "[CV] batch_size=20, epochs=10 ........................................\n",
      "[CV] ............ batch_size=20, epochs=10, score=0.000, total=  17.0s\n",
      "[CV] batch_size=20, epochs=10 ........................................\n",
      "[CV] ............ batch_size=20, epochs=10, score=0.000, total=  17.0s\n",
      "[CV] batch_size=20, epochs=50 ........................................\n",
      "[CV] ............ batch_size=20, epochs=50, score=0.000, total= 1.2min\n",
      "[CV] batch_size=20, epochs=50 ........................................\n",
      "[CV] ............ batch_size=20, epochs=50, score=0.000, total=  55.1s\n",
      "[CV] batch_size=20, epochs=50 ........................................\n",
      "[CV] ............ batch_size=20, epochs=50, score=0.000, total=  54.6s\n",
      "[CV] batch_size=20, epochs=50 ........................................\n",
      "[CV] ............ batch_size=20, epochs=50, score=0.000, total=  53.9s\n",
      "[CV] batch_size=20, epochs=50 ........................................\n",
      "[CV] ............ batch_size=20, epochs=50, score=0.000, total= 1.1min\n",
      "[CV] batch_size=20, epochs=100 .......................................\n",
      "[CV] ........... batch_size=20, epochs=100, score=0.000, total= 1.5min\n",
      "[CV] batch_size=20, epochs=100 .......................................\n",
      "[CV] ........... batch_size=20, epochs=100, score=0.000, total= 1.5min\n",
      "[CV] batch_size=20, epochs=100 .......................................\n",
      "[CV] ........... batch_size=20, epochs=100, score=0.000, total= 1.5min\n",
      "[CV] batch_size=20, epochs=100 .......................................\n",
      "[CV] ........... batch_size=20, epochs=100, score=0.000, total= 1.5min\n",
      "[CV] batch_size=20, epochs=100 .......................................\n",
      "[CV] ........... batch_size=20, epochs=100, score=0.000, total= 1.4min\n",
      "[CV] batch_size=40, epochs=10 ........................................\n",
      "[CV] ............ batch_size=40, epochs=10, score=0.000, total=   5.8s\n",
      "[CV] batch_size=40, epochs=10 ........................................\n",
      "[CV] ............ batch_size=40, epochs=10, score=0.000, total=   5.6s\n",
      "[CV] batch_size=40, epochs=10 ........................................\n",
      "[CV] ............ batch_size=40, epochs=10, score=0.000, total=   5.6s\n",
      "[CV] batch_size=40, epochs=10 ........................................\n",
      "[CV] ............ batch_size=40, epochs=10, score=0.000, total=   5.7s\n",
      "[CV] batch_size=40, epochs=10 ........................................\n",
      "[CV] ............ batch_size=40, epochs=10, score=0.000, total=   5.7s\n",
      "[CV] batch_size=40, epochs=50 ........................................\n",
      "[CV] ............ batch_size=40, epochs=50, score=0.000, total=  23.5s\n",
      "[CV] batch_size=40, epochs=50 ........................................\n",
      "[CV] ............ batch_size=40, epochs=50, score=0.000, total=  23.3s\n",
      "[CV] batch_size=40, epochs=50 ........................................\n",
      "[CV] ............ batch_size=40, epochs=50, score=0.000, total=  23.4s\n",
      "[CV] batch_size=40, epochs=50 ........................................\n",
      "[CV] ............ batch_size=40, epochs=50, score=0.000, total=  22.9s\n",
      "[CV] batch_size=40, epochs=50 ........................................\n",
      "[CV] ............ batch_size=40, epochs=50, score=0.000, total=  23.5s\n",
      "[CV] batch_size=40, epochs=100 .......................................\n",
      "[CV] ........... batch_size=40, epochs=100, score=0.000, total=  46.4s\n",
      "[CV] batch_size=40, epochs=100 .......................................\n",
      "[CV] ........... batch_size=40, epochs=100, score=0.000, total= 1.1min\n",
      "[CV] batch_size=40, epochs=100 .......................................\n",
      "[CV] ........... batch_size=40, epochs=100, score=0.000, total= 1.1min\n",
      "[CV] batch_size=40, epochs=100 .......................................\n",
      "[CV] ........... batch_size=40, epochs=100, score=0.000, total= 1.3min\n",
      "[CV] batch_size=40, epochs=100 .......................................\n",
      "[CV] ........... batch_size=40, epochs=100, score=0.000, total=  52.4s\n"
     ]
    },
    {
     "name": "stderr",
     "output_type": "stream",
     "text": [
      "[Parallel(n_jobs=1)]: Done  45 out of  45 | elapsed: 46.9min finished\n"
     ]
    }
   ],
   "source": [
    "model = KerasClassifier(build_fn = create_model,verbose = 0)\n",
    "\n",
    "batch_size = [10,20,40]\n",
    "epochs = [10,50,100]\n",
    "\n",
    "param_grid = dict(batch_size = batch_size,epochs = epochs)\n",
    "\n",
    "grid = GridSearchCV(estimator = model,param_grid = param_grid,cv = KFold(),verbose = 10)\n",
    "grid_result = grid.fit(X,y)"
   ]
  },
  {
   "cell_type": "code",
   "execution_count": 27,
   "metadata": {},
   "outputs": [
    {
     "name": "stdout",
     "output_type": "stream",
     "text": [
      "Best : 0.0, using {'batch_size': 10, 'epochs': 10}\n",
      "0.0,0.0 with: {'batch_size': 10, 'epochs': 10}\n",
      "0.0,0.0 with: {'batch_size': 10, 'epochs': 50}\n",
      "0.0,0.0 with: {'batch_size': 10, 'epochs': 100}\n",
      "0.0,0.0 with: {'batch_size': 20, 'epochs': 10}\n",
      "0.0,0.0 with: {'batch_size': 20, 'epochs': 50}\n",
      "0.0,0.0 with: {'batch_size': 20, 'epochs': 100}\n",
      "0.0,0.0 with: {'batch_size': 40, 'epochs': 10}\n",
      "0.0,0.0 with: {'batch_size': 40, 'epochs': 50}\n",
      "0.0,0.0 with: {'batch_size': 40, 'epochs': 100}\n"
     ]
    }
   ],
   "source": [
    "print('Best : {}, using {}'.format(grid_result.best_score_,grid_result.best_params_))\n",
    "means = grid_result.cv_results_['mean_test_score']\n",
    "stds = grid_result.cv_results_['std_test_score']\n",
    "params = grid_result.cv_results_['params']\n",
    "for mean, stdev, param in zip(means, stds, params):\n",
    "    print('{},{} with: {}'.format(mean, stdev, param))\n"
   ]
  },
  {
   "cell_type": "code",
   "execution_count": 28,
   "metadata": {},
   "outputs": [],
   "source": [
    "from keras.layers import Dropout"
   ]
  },
  {
   "cell_type": "code",
   "execution_count": 29,
   "metadata": {},
   "outputs": [],
   "source": [
    "def create_model(learning_rate,dropout_rate):\n",
    "    model = Sequential()\n",
    "    model.add(Dense(8,input_dim = n_features,kernel_initializer = 'normal',activation = 'relu'))\n",
    "    model.add(Dropout(dropout_rate))\n",
    "    model.add(Dense(4,input_dim = n_features,kernel_initializer = 'normal',activation = 'relu'))\n",
    "    model.add(Dropout(dropout_rate))\n",
    "    model.add(Dense(1,activation = 'sigmoid'))\n",
    "    \n",
    "    adam = Adam(lr = learning_rate)\n",
    "    model.compile(loss='mean_squared_error',optimizer = adam,metrics = ['accuracy'])\n",
    "    return model"
   ]
  },
  {
   "cell_type": "code",
   "execution_count": 30,
   "metadata": {},
   "outputs": [
    {
     "name": "stderr",
     "output_type": "stream",
     "text": [
      "C:\\Users\\nitin\\anaconda3\\lib\\site-packages\\ipykernel_launcher.py:1: DeprecationWarning: KerasClassifier is deprecated, use Sci-Keras (https://github.com/adriangb/scikeras) instead.\n",
      "  \"\"\"Entry point for launching an IPython kernel.\n",
      "[Parallel(n_jobs=1)]: Using backend SequentialBackend with 1 concurrent workers.\n",
      "C:\\Users\\nitin\\anaconda3\\lib\\site-packages\\keras\\optimizer_v2\\adam.py:105: UserWarning: The `lr` argument is deprecated, use `learning_rate` instead.\n",
      "  super(Adam, self).__init__(name, **kwargs)\n"
     ]
    },
    {
     "name": "stdout",
     "output_type": "stream",
     "text": [
      "Fitting 5 folds for each of 9 candidates, totalling 45 fits\n",
      "[CV] dropout_rate=0.0, learning_rate=0.001 ...........................\n",
      "[CV]  dropout_rate=0.0, learning_rate=0.001, score=0.000, total=  23.0s\n",
      "[CV] dropout_rate=0.0, learning_rate=0.001 ...........................\n"
     ]
    },
    {
     "name": "stderr",
     "output_type": "stream",
     "text": [
      "[Parallel(n_jobs=1)]: Done   1 out of   1 | elapsed:   22.9s remaining:    0.0s\n",
      "C:\\Users\\nitin\\anaconda3\\lib\\site-packages\\keras\\optimizer_v2\\adam.py:105: UserWarning: The `lr` argument is deprecated, use `learning_rate` instead.\n",
      "  super(Adam, self).__init__(name, **kwargs)\n"
     ]
    },
    {
     "name": "stdout",
     "output_type": "stream",
     "text": [
      "[CV]  dropout_rate=0.0, learning_rate=0.001, score=0.000, total=  21.3s\n",
      "[CV] dropout_rate=0.0, learning_rate=0.001 ...........................\n"
     ]
    },
    {
     "name": "stderr",
     "output_type": "stream",
     "text": [
      "[Parallel(n_jobs=1)]: Done   2 out of   2 | elapsed:   44.1s remaining:    0.0s\n",
      "C:\\Users\\nitin\\anaconda3\\lib\\site-packages\\keras\\optimizer_v2\\adam.py:105: UserWarning: The `lr` argument is deprecated, use `learning_rate` instead.\n",
      "  super(Adam, self).__init__(name, **kwargs)\n"
     ]
    },
    {
     "name": "stdout",
     "output_type": "stream",
     "text": [
      "[CV]  dropout_rate=0.0, learning_rate=0.001, score=0.000, total=  21.5s\n",
      "[CV] dropout_rate=0.0, learning_rate=0.001 ...........................\n"
     ]
    },
    {
     "name": "stderr",
     "output_type": "stream",
     "text": [
      "[Parallel(n_jobs=1)]: Done   3 out of   3 | elapsed:  1.1min remaining:    0.0s\n",
      "C:\\Users\\nitin\\anaconda3\\lib\\site-packages\\keras\\optimizer_v2\\adam.py:105: UserWarning: The `lr` argument is deprecated, use `learning_rate` instead.\n",
      "  super(Adam, self).__init__(name, **kwargs)\n"
     ]
    },
    {
     "name": "stdout",
     "output_type": "stream",
     "text": [
      "[CV]  dropout_rate=0.0, learning_rate=0.001, score=0.000, total=  21.6s\n",
      "[CV] dropout_rate=0.0, learning_rate=0.001 ...........................\n"
     ]
    },
    {
     "name": "stderr",
     "output_type": "stream",
     "text": [
      "[Parallel(n_jobs=1)]: Done   4 out of   4 | elapsed:  1.5min remaining:    0.0s\n",
      "C:\\Users\\nitin\\anaconda3\\lib\\site-packages\\keras\\optimizer_v2\\adam.py:105: UserWarning: The `lr` argument is deprecated, use `learning_rate` instead.\n",
      "  super(Adam, self).__init__(name, **kwargs)\n"
     ]
    },
    {
     "name": "stdout",
     "output_type": "stream",
     "text": [
      "[CV]  dropout_rate=0.0, learning_rate=0.001, score=0.000, total=  19.6s\n",
      "[CV] dropout_rate=0.0, learning_rate=0.01 ............................\n"
     ]
    },
    {
     "name": "stderr",
     "output_type": "stream",
     "text": [
      "[Parallel(n_jobs=1)]: Done   5 out of   5 | elapsed:  1.8min remaining:    0.0s\n",
      "C:\\Users\\nitin\\anaconda3\\lib\\site-packages\\keras\\optimizer_v2\\adam.py:105: UserWarning: The `lr` argument is deprecated, use `learning_rate` instead.\n",
      "  super(Adam, self).__init__(name, **kwargs)\n"
     ]
    },
    {
     "name": "stdout",
     "output_type": "stream",
     "text": [
      "[CV]  dropout_rate=0.0, learning_rate=0.01, score=0.000, total=  19.2s\n",
      "[CV] dropout_rate=0.0, learning_rate=0.01 ............................\n"
     ]
    },
    {
     "name": "stderr",
     "output_type": "stream",
     "text": [
      "[Parallel(n_jobs=1)]: Done   6 out of   6 | elapsed:  2.1min remaining:    0.0s\n",
      "C:\\Users\\nitin\\anaconda3\\lib\\site-packages\\keras\\optimizer_v2\\adam.py:105: UserWarning: The `lr` argument is deprecated, use `learning_rate` instead.\n",
      "  super(Adam, self).__init__(name, **kwargs)\n"
     ]
    },
    {
     "name": "stdout",
     "output_type": "stream",
     "text": [
      "[CV]  dropout_rate=0.0, learning_rate=0.01, score=0.000, total=  20.2s\n",
      "[CV] dropout_rate=0.0, learning_rate=0.01 ............................\n"
     ]
    },
    {
     "name": "stderr",
     "output_type": "stream",
     "text": [
      "[Parallel(n_jobs=1)]: Done   7 out of   7 | elapsed:  2.4min remaining:    0.0s\n",
      "C:\\Users\\nitin\\anaconda3\\lib\\site-packages\\keras\\optimizer_v2\\adam.py:105: UserWarning: The `lr` argument is deprecated, use `learning_rate` instead.\n",
      "  super(Adam, self).__init__(name, **kwargs)\n"
     ]
    },
    {
     "name": "stdout",
     "output_type": "stream",
     "text": [
      "[CV]  dropout_rate=0.0, learning_rate=0.01, score=0.000, total=  19.0s\n",
      "[CV] dropout_rate=0.0, learning_rate=0.01 ............................\n"
     ]
    },
    {
     "name": "stderr",
     "output_type": "stream",
     "text": [
      "[Parallel(n_jobs=1)]: Done   8 out of   8 | elapsed:  2.8min remaining:    0.0s\n",
      "C:\\Users\\nitin\\anaconda3\\lib\\site-packages\\keras\\optimizer_v2\\adam.py:105: UserWarning: The `lr` argument is deprecated, use `learning_rate` instead.\n",
      "  super(Adam, self).__init__(name, **kwargs)\n"
     ]
    },
    {
     "name": "stdout",
     "output_type": "stream",
     "text": [
      "[CV]  dropout_rate=0.0, learning_rate=0.01, score=0.000, total=  19.0s\n",
      "[CV] dropout_rate=0.0, learning_rate=0.01 ............................\n"
     ]
    },
    {
     "name": "stderr",
     "output_type": "stream",
     "text": [
      "[Parallel(n_jobs=1)]: Done   9 out of   9 | elapsed:  3.1min remaining:    0.0s\n",
      "C:\\Users\\nitin\\anaconda3\\lib\\site-packages\\keras\\optimizer_v2\\adam.py:105: UserWarning: The `lr` argument is deprecated, use `learning_rate` instead.\n",
      "  super(Adam, self).__init__(name, **kwargs)\n"
     ]
    },
    {
     "name": "stdout",
     "output_type": "stream",
     "text": [
      "[CV]  dropout_rate=0.0, learning_rate=0.01, score=0.000, total=  20.9s\n",
      "[CV] dropout_rate=0.0, learning_rate=0.1 .............................\n"
     ]
    },
    {
     "name": "stderr",
     "output_type": "stream",
     "text": [
      "C:\\Users\\nitin\\anaconda3\\lib\\site-packages\\keras\\optimizer_v2\\adam.py:105: UserWarning: The `lr` argument is deprecated, use `learning_rate` instead.\n",
      "  super(Adam, self).__init__(name, **kwargs)\n"
     ]
    },
    {
     "name": "stdout",
     "output_type": "stream",
     "text": [
      "[CV] . dropout_rate=0.0, learning_rate=0.1, score=0.000, total=  21.8s\n",
      "[CV] dropout_rate=0.0, learning_rate=0.1 .............................\n"
     ]
    },
    {
     "name": "stderr",
     "output_type": "stream",
     "text": [
      "C:\\Users\\nitin\\anaconda3\\lib\\site-packages\\keras\\optimizer_v2\\adam.py:105: UserWarning: The `lr` argument is deprecated, use `learning_rate` instead.\n",
      "  super(Adam, self).__init__(name, **kwargs)\n"
     ]
    },
    {
     "name": "stdout",
     "output_type": "stream",
     "text": [
      "[CV] . dropout_rate=0.0, learning_rate=0.1, score=0.000, total=  22.1s\n",
      "[CV] dropout_rate=0.0, learning_rate=0.1 .............................\n"
     ]
    },
    {
     "name": "stderr",
     "output_type": "stream",
     "text": [
      "C:\\Users\\nitin\\anaconda3\\lib\\site-packages\\keras\\optimizer_v2\\adam.py:105: UserWarning: The `lr` argument is deprecated, use `learning_rate` instead.\n",
      "  super(Adam, self).__init__(name, **kwargs)\n"
     ]
    },
    {
     "name": "stdout",
     "output_type": "stream",
     "text": [
      "[CV] . dropout_rate=0.0, learning_rate=0.1, score=0.000, total=  19.0s\n",
      "[CV] dropout_rate=0.0, learning_rate=0.1 .............................\n"
     ]
    },
    {
     "name": "stderr",
     "output_type": "stream",
     "text": [
      "C:\\Users\\nitin\\anaconda3\\lib\\site-packages\\keras\\optimizer_v2\\adam.py:105: UserWarning: The `lr` argument is deprecated, use `learning_rate` instead.\n",
      "  super(Adam, self).__init__(name, **kwargs)\n"
     ]
    },
    {
     "name": "stdout",
     "output_type": "stream",
     "text": [
      "[CV] . dropout_rate=0.0, learning_rate=0.1, score=0.000, total=  19.0s\n",
      "[CV] dropout_rate=0.0, learning_rate=0.1 .............................\n"
     ]
    },
    {
     "name": "stderr",
     "output_type": "stream",
     "text": [
      "C:\\Users\\nitin\\anaconda3\\lib\\site-packages\\keras\\optimizer_v2\\adam.py:105: UserWarning: The `lr` argument is deprecated, use `learning_rate` instead.\n",
      "  super(Adam, self).__init__(name, **kwargs)\n"
     ]
    },
    {
     "name": "stdout",
     "output_type": "stream",
     "text": [
      "[CV] . dropout_rate=0.0, learning_rate=0.1, score=0.000, total=  19.6s\n",
      "[CV] dropout_rate=0.1, learning_rate=0.001 ...........................\n"
     ]
    },
    {
     "name": "stderr",
     "output_type": "stream",
     "text": [
      "C:\\Users\\nitin\\anaconda3\\lib\\site-packages\\keras\\optimizer_v2\\adam.py:105: UserWarning: The `lr` argument is deprecated, use `learning_rate` instead.\n",
      "  super(Adam, self).__init__(name, **kwargs)\n"
     ]
    },
    {
     "name": "stdout",
     "output_type": "stream",
     "text": [
      "[CV]  dropout_rate=0.1, learning_rate=0.001, score=0.000, total=  22.0s\n",
      "[CV] dropout_rate=0.1, learning_rate=0.001 ...........................\n"
     ]
    },
    {
     "name": "stderr",
     "output_type": "stream",
     "text": [
      "C:\\Users\\nitin\\anaconda3\\lib\\site-packages\\keras\\optimizer_v2\\adam.py:105: UserWarning: The `lr` argument is deprecated, use `learning_rate` instead.\n",
      "  super(Adam, self).__init__(name, **kwargs)\n"
     ]
    },
    {
     "name": "stdout",
     "output_type": "stream",
     "text": [
      "[CV]  dropout_rate=0.1, learning_rate=0.001, score=0.000, total=  20.0s\n",
      "[CV] dropout_rate=0.1, learning_rate=0.001 ...........................\n"
     ]
    },
    {
     "name": "stderr",
     "output_type": "stream",
     "text": [
      "C:\\Users\\nitin\\anaconda3\\lib\\site-packages\\keras\\optimizer_v2\\adam.py:105: UserWarning: The `lr` argument is deprecated, use `learning_rate` instead.\n",
      "  super(Adam, self).__init__(name, **kwargs)\n"
     ]
    },
    {
     "name": "stdout",
     "output_type": "stream",
     "text": [
      "[CV]  dropout_rate=0.1, learning_rate=0.001, score=0.000, total=  20.3s\n",
      "[CV] dropout_rate=0.1, learning_rate=0.001 ...........................\n"
     ]
    },
    {
     "name": "stderr",
     "output_type": "stream",
     "text": [
      "C:\\Users\\nitin\\anaconda3\\lib\\site-packages\\keras\\optimizer_v2\\adam.py:105: UserWarning: The `lr` argument is deprecated, use `learning_rate` instead.\n",
      "  super(Adam, self).__init__(name, **kwargs)\n"
     ]
    },
    {
     "name": "stdout",
     "output_type": "stream",
     "text": [
      "[CV]  dropout_rate=0.1, learning_rate=0.001, score=0.000, total=  20.2s\n",
      "[CV] dropout_rate=0.1, learning_rate=0.001 ...........................\n"
     ]
    },
    {
     "name": "stderr",
     "output_type": "stream",
     "text": [
      "C:\\Users\\nitin\\anaconda3\\lib\\site-packages\\keras\\optimizer_v2\\adam.py:105: UserWarning: The `lr` argument is deprecated, use `learning_rate` instead.\n",
      "  super(Adam, self).__init__(name, **kwargs)\n"
     ]
    },
    {
     "name": "stdout",
     "output_type": "stream",
     "text": [
      "[CV]  dropout_rate=0.1, learning_rate=0.001, score=0.000, total=  20.5s\n",
      "[CV] dropout_rate=0.1, learning_rate=0.01 ............................\n"
     ]
    },
    {
     "name": "stderr",
     "output_type": "stream",
     "text": [
      "C:\\Users\\nitin\\anaconda3\\lib\\site-packages\\keras\\optimizer_v2\\adam.py:105: UserWarning: The `lr` argument is deprecated, use `learning_rate` instead.\n",
      "  super(Adam, self).__init__(name, **kwargs)\n"
     ]
    },
    {
     "name": "stdout",
     "output_type": "stream",
     "text": [
      "[CV]  dropout_rate=0.1, learning_rate=0.01, score=0.000, total=  21.2s\n",
      "[CV] dropout_rate=0.1, learning_rate=0.01 ............................\n"
     ]
    },
    {
     "name": "stderr",
     "output_type": "stream",
     "text": [
      "C:\\Users\\nitin\\anaconda3\\lib\\site-packages\\keras\\optimizer_v2\\adam.py:105: UserWarning: The `lr` argument is deprecated, use `learning_rate` instead.\n",
      "  super(Adam, self).__init__(name, **kwargs)\n"
     ]
    },
    {
     "name": "stdout",
     "output_type": "stream",
     "text": [
      "[CV]  dropout_rate=0.1, learning_rate=0.01, score=0.000, total=  21.3s\n",
      "[CV] dropout_rate=0.1, learning_rate=0.01 ............................\n"
     ]
    },
    {
     "name": "stderr",
     "output_type": "stream",
     "text": [
      "C:\\Users\\nitin\\anaconda3\\lib\\site-packages\\keras\\optimizer_v2\\adam.py:105: UserWarning: The `lr` argument is deprecated, use `learning_rate` instead.\n",
      "  super(Adam, self).__init__(name, **kwargs)\n"
     ]
    },
    {
     "name": "stdout",
     "output_type": "stream",
     "text": [
      "[CV]  dropout_rate=0.1, learning_rate=0.01, score=0.000, total=  20.7s\n",
      "[CV] dropout_rate=0.1, learning_rate=0.01 ............................\n"
     ]
    },
    {
     "name": "stderr",
     "output_type": "stream",
     "text": [
      "C:\\Users\\nitin\\anaconda3\\lib\\site-packages\\keras\\optimizer_v2\\adam.py:105: UserWarning: The `lr` argument is deprecated, use `learning_rate` instead.\n",
      "  super(Adam, self).__init__(name, **kwargs)\n"
     ]
    },
    {
     "name": "stdout",
     "output_type": "stream",
     "text": [
      "[CV]  dropout_rate=0.1, learning_rate=0.01, score=0.000, total=  21.5s\n",
      "[CV] dropout_rate=0.1, learning_rate=0.01 ............................\n"
     ]
    },
    {
     "name": "stderr",
     "output_type": "stream",
     "text": [
      "C:\\Users\\nitin\\anaconda3\\lib\\site-packages\\keras\\optimizer_v2\\adam.py:105: UserWarning: The `lr` argument is deprecated, use `learning_rate` instead.\n",
      "  super(Adam, self).__init__(name, **kwargs)\n"
     ]
    },
    {
     "name": "stdout",
     "output_type": "stream",
     "text": [
      "[CV]  dropout_rate=0.1, learning_rate=0.01, score=0.000, total=  24.0s\n",
      "[CV] dropout_rate=0.1, learning_rate=0.1 .............................\n"
     ]
    },
    {
     "name": "stderr",
     "output_type": "stream",
     "text": [
      "C:\\Users\\nitin\\anaconda3\\lib\\site-packages\\keras\\optimizer_v2\\adam.py:105: UserWarning: The `lr` argument is deprecated, use `learning_rate` instead.\n",
      "  super(Adam, self).__init__(name, **kwargs)\n"
     ]
    },
    {
     "name": "stdout",
     "output_type": "stream",
     "text": [
      "[CV] . dropout_rate=0.1, learning_rate=0.1, score=0.000, total=  20.8s\n",
      "[CV] dropout_rate=0.1, learning_rate=0.1 .............................\n"
     ]
    },
    {
     "name": "stderr",
     "output_type": "stream",
     "text": [
      "C:\\Users\\nitin\\anaconda3\\lib\\site-packages\\keras\\optimizer_v2\\adam.py:105: UserWarning: The `lr` argument is deprecated, use `learning_rate` instead.\n",
      "  super(Adam, self).__init__(name, **kwargs)\n"
     ]
    },
    {
     "name": "stdout",
     "output_type": "stream",
     "text": [
      "[CV] . dropout_rate=0.1, learning_rate=0.1, score=0.000, total=  20.0s\n",
      "[CV] dropout_rate=0.1, learning_rate=0.1 .............................\n"
     ]
    },
    {
     "name": "stderr",
     "output_type": "stream",
     "text": [
      "C:\\Users\\nitin\\anaconda3\\lib\\site-packages\\keras\\optimizer_v2\\adam.py:105: UserWarning: The `lr` argument is deprecated, use `learning_rate` instead.\n",
      "  super(Adam, self).__init__(name, **kwargs)\n"
     ]
    },
    {
     "name": "stdout",
     "output_type": "stream",
     "text": [
      "[CV] . dropout_rate=0.1, learning_rate=0.1, score=0.000, total=  20.0s\n",
      "[CV] dropout_rate=0.1, learning_rate=0.1 .............................\n"
     ]
    },
    {
     "name": "stderr",
     "output_type": "stream",
     "text": [
      "C:\\Users\\nitin\\anaconda3\\lib\\site-packages\\keras\\optimizer_v2\\adam.py:105: UserWarning: The `lr` argument is deprecated, use `learning_rate` instead.\n",
      "  super(Adam, self).__init__(name, **kwargs)\n"
     ]
    },
    {
     "name": "stdout",
     "output_type": "stream",
     "text": [
      "[CV] . dropout_rate=0.1, learning_rate=0.1, score=0.000, total=  20.2s\n",
      "[CV] dropout_rate=0.1, learning_rate=0.1 .............................\n"
     ]
    },
    {
     "name": "stderr",
     "output_type": "stream",
     "text": [
      "C:\\Users\\nitin\\anaconda3\\lib\\site-packages\\keras\\optimizer_v2\\adam.py:105: UserWarning: The `lr` argument is deprecated, use `learning_rate` instead.\n",
      "  super(Adam, self).__init__(name, **kwargs)\n"
     ]
    },
    {
     "name": "stdout",
     "output_type": "stream",
     "text": [
      "[CV] . dropout_rate=0.1, learning_rate=0.1, score=0.000, total=  19.8s\n",
      "[CV] dropout_rate=0.2, learning_rate=0.001 ...........................\n"
     ]
    },
    {
     "name": "stderr",
     "output_type": "stream",
     "text": [
      "C:\\Users\\nitin\\anaconda3\\lib\\site-packages\\keras\\optimizer_v2\\adam.py:105: UserWarning: The `lr` argument is deprecated, use `learning_rate` instead.\n",
      "  super(Adam, self).__init__(name, **kwargs)\n"
     ]
    },
    {
     "name": "stdout",
     "output_type": "stream",
     "text": [
      "[CV]  dropout_rate=0.2, learning_rate=0.001, score=0.000, total=  19.8s\n",
      "[CV] dropout_rate=0.2, learning_rate=0.001 ...........................\n"
     ]
    },
    {
     "name": "stderr",
     "output_type": "stream",
     "text": [
      "C:\\Users\\nitin\\anaconda3\\lib\\site-packages\\keras\\optimizer_v2\\adam.py:105: UserWarning: The `lr` argument is deprecated, use `learning_rate` instead.\n",
      "  super(Adam, self).__init__(name, **kwargs)\n"
     ]
    },
    {
     "name": "stdout",
     "output_type": "stream",
     "text": [
      "[CV]  dropout_rate=0.2, learning_rate=0.001, score=0.000, total=  20.0s\n",
      "[CV] dropout_rate=0.2, learning_rate=0.001 ...........................\n"
     ]
    },
    {
     "name": "stderr",
     "output_type": "stream",
     "text": [
      "C:\\Users\\nitin\\anaconda3\\lib\\site-packages\\keras\\optimizer_v2\\adam.py:105: UserWarning: The `lr` argument is deprecated, use `learning_rate` instead.\n",
      "  super(Adam, self).__init__(name, **kwargs)\n"
     ]
    },
    {
     "name": "stdout",
     "output_type": "stream",
     "text": [
      "[CV]  dropout_rate=0.2, learning_rate=0.001, score=0.000, total=  19.7s\n",
      "[CV] dropout_rate=0.2, learning_rate=0.001 ...........................\n"
     ]
    },
    {
     "name": "stderr",
     "output_type": "stream",
     "text": [
      "C:\\Users\\nitin\\anaconda3\\lib\\site-packages\\keras\\optimizer_v2\\adam.py:105: UserWarning: The `lr` argument is deprecated, use `learning_rate` instead.\n",
      "  super(Adam, self).__init__(name, **kwargs)\n"
     ]
    },
    {
     "name": "stdout",
     "output_type": "stream",
     "text": [
      "[CV]  dropout_rate=0.2, learning_rate=0.001, score=0.000, total=  19.4s\n",
      "[CV] dropout_rate=0.2, learning_rate=0.001 ...........................\n"
     ]
    },
    {
     "name": "stderr",
     "output_type": "stream",
     "text": [
      "C:\\Users\\nitin\\anaconda3\\lib\\site-packages\\keras\\optimizer_v2\\adam.py:105: UserWarning: The `lr` argument is deprecated, use `learning_rate` instead.\n",
      "  super(Adam, self).__init__(name, **kwargs)\n"
     ]
    },
    {
     "name": "stdout",
     "output_type": "stream",
     "text": [
      "[CV]  dropout_rate=0.2, learning_rate=0.001, score=0.000, total=  21.4s\n",
      "[CV] dropout_rate=0.2, learning_rate=0.01 ............................\n"
     ]
    },
    {
     "name": "stderr",
     "output_type": "stream",
     "text": [
      "C:\\Users\\nitin\\anaconda3\\lib\\site-packages\\keras\\optimizer_v2\\adam.py:105: UserWarning: The `lr` argument is deprecated, use `learning_rate` instead.\n",
      "  super(Adam, self).__init__(name, **kwargs)\n"
     ]
    },
    {
     "name": "stdout",
     "output_type": "stream",
     "text": [
      "[CV]  dropout_rate=0.2, learning_rate=0.01, score=0.000, total=  19.4s\n",
      "[CV] dropout_rate=0.2, learning_rate=0.01 ............................\n"
     ]
    },
    {
     "name": "stderr",
     "output_type": "stream",
     "text": [
      "C:\\Users\\nitin\\anaconda3\\lib\\site-packages\\keras\\optimizer_v2\\adam.py:105: UserWarning: The `lr` argument is deprecated, use `learning_rate` instead.\n",
      "  super(Adam, self).__init__(name, **kwargs)\n"
     ]
    },
    {
     "name": "stdout",
     "output_type": "stream",
     "text": [
      "[CV]  dropout_rate=0.2, learning_rate=0.01, score=0.000, total=  22.5s\n",
      "[CV] dropout_rate=0.2, learning_rate=0.01 ............................\n"
     ]
    },
    {
     "name": "stderr",
     "output_type": "stream",
     "text": [
      "C:\\Users\\nitin\\anaconda3\\lib\\site-packages\\keras\\optimizer_v2\\adam.py:105: UserWarning: The `lr` argument is deprecated, use `learning_rate` instead.\n",
      "  super(Adam, self).__init__(name, **kwargs)\n"
     ]
    },
    {
     "name": "stdout",
     "output_type": "stream",
     "text": [
      "[CV]  dropout_rate=0.2, learning_rate=0.01, score=0.000, total=  22.2s\n",
      "[CV] dropout_rate=0.2, learning_rate=0.01 ............................\n"
     ]
    },
    {
     "name": "stderr",
     "output_type": "stream",
     "text": [
      "C:\\Users\\nitin\\anaconda3\\lib\\site-packages\\keras\\optimizer_v2\\adam.py:105: UserWarning: The `lr` argument is deprecated, use `learning_rate` instead.\n",
      "  super(Adam, self).__init__(name, **kwargs)\n"
     ]
    },
    {
     "name": "stdout",
     "output_type": "stream",
     "text": [
      "[CV]  dropout_rate=0.2, learning_rate=0.01, score=0.000, total=  17.1s\n",
      "[CV] dropout_rate=0.2, learning_rate=0.01 ............................\n"
     ]
    },
    {
     "name": "stderr",
     "output_type": "stream",
     "text": [
      "C:\\Users\\nitin\\anaconda3\\lib\\site-packages\\keras\\optimizer_v2\\adam.py:105: UserWarning: The `lr` argument is deprecated, use `learning_rate` instead.\n",
      "  super(Adam, self).__init__(name, **kwargs)\n"
     ]
    },
    {
     "name": "stdout",
     "output_type": "stream",
     "text": [
      "[CV]  dropout_rate=0.2, learning_rate=0.01, score=0.000, total=   7.9s\n",
      "[CV] dropout_rate=0.2, learning_rate=0.1 .............................\n"
     ]
    },
    {
     "name": "stderr",
     "output_type": "stream",
     "text": [
      "C:\\Users\\nitin\\anaconda3\\lib\\site-packages\\keras\\optimizer_v2\\adam.py:105: UserWarning: The `lr` argument is deprecated, use `learning_rate` instead.\n",
      "  super(Adam, self).__init__(name, **kwargs)\n"
     ]
    },
    {
     "name": "stdout",
     "output_type": "stream",
     "text": [
      "[CV] . dropout_rate=0.2, learning_rate=0.1, score=0.000, total=   8.6s\n",
      "[CV] dropout_rate=0.2, learning_rate=0.1 .............................\n"
     ]
    },
    {
     "name": "stderr",
     "output_type": "stream",
     "text": [
      "C:\\Users\\nitin\\anaconda3\\lib\\site-packages\\keras\\optimizer_v2\\adam.py:105: UserWarning: The `lr` argument is deprecated, use `learning_rate` instead.\n",
      "  super(Adam, self).__init__(name, **kwargs)\n"
     ]
    },
    {
     "name": "stdout",
     "output_type": "stream",
     "text": [
      "[CV] . dropout_rate=0.2, learning_rate=0.1, score=0.000, total=   8.0s\n",
      "[CV] dropout_rate=0.2, learning_rate=0.1 .............................\n"
     ]
    },
    {
     "name": "stderr",
     "output_type": "stream",
     "text": [
      "C:\\Users\\nitin\\anaconda3\\lib\\site-packages\\keras\\optimizer_v2\\adam.py:105: UserWarning: The `lr` argument is deprecated, use `learning_rate` instead.\n",
      "  super(Adam, self).__init__(name, **kwargs)\n"
     ]
    },
    {
     "name": "stdout",
     "output_type": "stream",
     "text": [
      "[CV] . dropout_rate=0.2, learning_rate=0.1, score=0.000, total=   8.0s\n",
      "[CV] dropout_rate=0.2, learning_rate=0.1 .............................\n"
     ]
    },
    {
     "name": "stderr",
     "output_type": "stream",
     "text": [
      "C:\\Users\\nitin\\anaconda3\\lib\\site-packages\\keras\\optimizer_v2\\adam.py:105: UserWarning: The `lr` argument is deprecated, use `learning_rate` instead.\n",
      "  super(Adam, self).__init__(name, **kwargs)\n"
     ]
    },
    {
     "name": "stdout",
     "output_type": "stream",
     "text": [
      "[CV] . dropout_rate=0.2, learning_rate=0.1, score=0.000, total=   7.9s\n",
      "[CV] dropout_rate=0.2, learning_rate=0.1 .............................\n"
     ]
    },
    {
     "name": "stderr",
     "output_type": "stream",
     "text": [
      "C:\\Users\\nitin\\anaconda3\\lib\\site-packages\\keras\\optimizer_v2\\adam.py:105: UserWarning: The `lr` argument is deprecated, use `learning_rate` instead.\n",
      "  super(Adam, self).__init__(name, **kwargs)\n"
     ]
    },
    {
     "name": "stdout",
     "output_type": "stream",
     "text": [
      "[CV] . dropout_rate=0.2, learning_rate=0.1, score=0.000, total=   8.0s\n"
     ]
    },
    {
     "name": "stderr",
     "output_type": "stream",
     "text": [
      "[Parallel(n_jobs=1)]: Done  45 out of  45 | elapsed: 14.2min finished\n",
      "C:\\Users\\nitin\\anaconda3\\lib\\site-packages\\keras\\optimizer_v2\\adam.py:105: UserWarning: The `lr` argument is deprecated, use `learning_rate` instead.\n",
      "  super(Adam, self).__init__(name, **kwargs)\n"
     ]
    }
   ],
   "source": [
    "model = KerasClassifier(build_fn = create_model,verbose = 0,batch_size = 10,epochs = 10)\n",
    "\n",
    "learning_rate = [0.001,0.01,0.1]\n",
    "dropout_rate = [0.0,0.1,0.2]\n",
    "\n",
    "param_grids = dict(learning_rate = learning_rate,dropout_rate = dropout_rate)\n",
    "\n",
    "grid = GridSearchCV(estimator = model,param_grid = param_grids,cv = KFold(),verbose = 10)\n",
    "grid_result = grid.fit(X,y)"
   ]
  },
  {
   "cell_type": "code",
   "execution_count": 31,
   "metadata": {},
   "outputs": [
    {
     "name": "stdout",
     "output_type": "stream",
     "text": [
      "Best : 0.0, using {'dropout_rate': 0.0, 'learning_rate': 0.001}\n",
      "0.0,0.0 with: {'dropout_rate': 0.0, 'learning_rate': 0.001}\n",
      "0.0,0.0 with: {'dropout_rate': 0.0, 'learning_rate': 0.01}\n",
      "0.0,0.0 with: {'dropout_rate': 0.0, 'learning_rate': 0.1}\n",
      "0.0,0.0 with: {'dropout_rate': 0.1, 'learning_rate': 0.001}\n",
      "0.0,0.0 with: {'dropout_rate': 0.1, 'learning_rate': 0.01}\n",
      "0.0,0.0 with: {'dropout_rate': 0.1, 'learning_rate': 0.1}\n",
      "0.0,0.0 with: {'dropout_rate': 0.2, 'learning_rate': 0.001}\n",
      "0.0,0.0 with: {'dropout_rate': 0.2, 'learning_rate': 0.01}\n",
      "0.0,0.0 with: {'dropout_rate': 0.2, 'learning_rate': 0.1}\n"
     ]
    }
   ],
   "source": [
    "print('Best : {}, using {}'.format(grid_result.best_score_,grid_result.best_params_))\n",
    "means = grid_result.cv_results_['mean_test_score']\n",
    "stds = grid_result.cv_results_['std_test_score']\n",
    "params = grid_result.cv_results_['params']\n",
    "for mean, stdev, param in zip(means, stds, params):\n",
    "    print('{},{} with: {}'.format(mean, stdev, param))"
   ]
  },
  {
   "cell_type": "code",
   "execution_count": 32,
   "metadata": {},
   "outputs": [],
   "source": [
    "def create_model(neuron1,neuron2):\n",
    "    model = Sequential()\n",
    "    model.add(Dense(neuron1,input_dim = n_features,kernel_initializer = 'uniform',activation = 'tanh'))\n",
    "    model.add(Dense(neuron2,input_dim = neuron1,kernel_initializer = 'uniform',activation = 'tanh'))\n",
    "    model.add(Dense(1,activation = 'sigmoid'))\n",
    "    \n",
    "    optmizer =RMSprop(0.001)#here,Learning_rate is 0.03\n",
    "    model.compile(loss='binary_crossentropy', optimizer=optmizer, metrics=['accuracy'])\n",
    "    return model"
   ]
  },
  {
   "cell_type": "code",
   "execution_count": 33,
   "metadata": {},
   "outputs": [
    {
     "name": "stderr",
     "output_type": "stream",
     "text": [
      "C:\\Users\\nitin\\anaconda3\\lib\\site-packages\\ipykernel_launcher.py:1: DeprecationWarning: KerasClassifier is deprecated, use Sci-Keras (https://github.com/adriangb/scikeras) instead.\n",
      "  \"\"\"Entry point for launching an IPython kernel.\n",
      "[Parallel(n_jobs=1)]: Using backend SequentialBackend with 1 concurrent workers.\n"
     ]
    },
    {
     "name": "stdout",
     "output_type": "stream",
     "text": [
      "Fitting 5 folds for each of 56 candidates, totalling 280 fits\n",
      "[CV] neuron1=4, neuron2=2 ............................................\n",
      "[CV] ................ neuron1=4, neuron2=2, score=0.000, total=  10.5s\n",
      "[CV] neuron1=4, neuron2=2 ............................................\n"
     ]
    },
    {
     "name": "stderr",
     "output_type": "stream",
     "text": [
      "[Parallel(n_jobs=1)]: Done   1 out of   1 | elapsed:   10.4s remaining:    0.0s\n"
     ]
    },
    {
     "name": "stdout",
     "output_type": "stream",
     "text": [
      "[CV] ................ neuron1=4, neuron2=2, score=0.000, total=   8.1s\n",
      "[CV] neuron1=4, neuron2=2 ............................................\n"
     ]
    },
    {
     "name": "stderr",
     "output_type": "stream",
     "text": [
      "[Parallel(n_jobs=1)]: Done   2 out of   2 | elapsed:   18.5s remaining:    0.0s\n"
     ]
    },
    {
     "name": "stdout",
     "output_type": "stream",
     "text": [
      "[CV] ................ neuron1=4, neuron2=2, score=0.000, total=   8.1s\n",
      "[CV] neuron1=4, neuron2=2 ............................................\n"
     ]
    },
    {
     "name": "stderr",
     "output_type": "stream",
     "text": [
      "[Parallel(n_jobs=1)]: Done   3 out of   3 | elapsed:   26.5s remaining:    0.0s\n"
     ]
    },
    {
     "name": "stdout",
     "output_type": "stream",
     "text": [
      "[CV] ................ neuron1=4, neuron2=2, score=0.000, total=   8.3s\n",
      "[CV] neuron1=4, neuron2=2 ............................................\n"
     ]
    },
    {
     "name": "stderr",
     "output_type": "stream",
     "text": [
      "[Parallel(n_jobs=1)]: Done   4 out of   4 | elapsed:   34.8s remaining:    0.0s\n"
     ]
    },
    {
     "name": "stdout",
     "output_type": "stream",
     "text": [
      "[CV] ................ neuron1=4, neuron2=2, score=0.000, total=  10.8s\n",
      "[CV] neuron1=4, neuron2=4 ............................................\n"
     ]
    },
    {
     "name": "stderr",
     "output_type": "stream",
     "text": [
      "[Parallel(n_jobs=1)]: Done   5 out of   5 | elapsed:   45.6s remaining:    0.0s\n"
     ]
    },
    {
     "name": "stdout",
     "output_type": "stream",
     "text": [
      "[CV] ................ neuron1=4, neuron2=4, score=0.000, total=   9.2s\n",
      "[CV] neuron1=4, neuron2=4 ............................................\n"
     ]
    },
    {
     "name": "stderr",
     "output_type": "stream",
     "text": [
      "[Parallel(n_jobs=1)]: Done   6 out of   6 | elapsed:   54.8s remaining:    0.0s\n"
     ]
    },
    {
     "name": "stdout",
     "output_type": "stream",
     "text": [
      "[CV] ................ neuron1=4, neuron2=4, score=0.000, total=   9.7s\n",
      "[CV] neuron1=4, neuron2=4 ............................................\n"
     ]
    },
    {
     "name": "stderr",
     "output_type": "stream",
     "text": [
      "[Parallel(n_jobs=1)]: Done   7 out of   7 | elapsed:  1.1min remaining:    0.0s\n"
     ]
    },
    {
     "name": "stdout",
     "output_type": "stream",
     "text": [
      "[CV] ................ neuron1=4, neuron2=4, score=0.000, total=   9.0s\n",
      "[CV] neuron1=4, neuron2=4 ............................................\n"
     ]
    },
    {
     "name": "stderr",
     "output_type": "stream",
     "text": [
      "[Parallel(n_jobs=1)]: Done   8 out of   8 | elapsed:  1.2min remaining:    0.0s\n"
     ]
    },
    {
     "name": "stdout",
     "output_type": "stream",
     "text": [
      "[CV] ................ neuron1=4, neuron2=4, score=0.000, total=   8.9s\n",
      "[CV] neuron1=4, neuron2=4 ............................................\n"
     ]
    },
    {
     "name": "stderr",
     "output_type": "stream",
     "text": [
      "[Parallel(n_jobs=1)]: Done   9 out of   9 | elapsed:  1.4min remaining:    0.0s\n"
     ]
    },
    {
     "name": "stdout",
     "output_type": "stream",
     "text": [
      "[CV] ................ neuron1=4, neuron2=4, score=0.000, total=   9.4s\n",
      "[CV] neuron1=4, neuron2=8 ............................................\n",
      "[CV] ................ neuron1=4, neuron2=8, score=0.000, total=   8.2s\n",
      "[CV] neuron1=4, neuron2=8 ............................................\n",
      "[CV] ................ neuron1=4, neuron2=8, score=0.000, total=   8.2s\n",
      "[CV] neuron1=4, neuron2=8 ............................................\n",
      "[CV] ................ neuron1=4, neuron2=8, score=0.000, total=   8.3s\n",
      "[CV] neuron1=4, neuron2=8 ............................................\n",
      "[CV] ................ neuron1=4, neuron2=8, score=0.000, total=   8.0s\n",
      "[CV] neuron1=4, neuron2=8 ............................................\n",
      "[CV] ................ neuron1=4, neuron2=8, score=0.000, total=   8.0s\n",
      "[CV] neuron1=4, neuron2=20 ...........................................\n",
      "[CV] ............... neuron1=4, neuron2=20, score=0.000, total=   8.1s\n",
      "[CV] neuron1=4, neuron2=20 ...........................................\n",
      "[CV] ............... neuron1=4, neuron2=20, score=0.000, total=   8.1s\n",
      "[CV] neuron1=4, neuron2=20 ...........................................\n",
      "[CV] ............... neuron1=4, neuron2=20, score=0.000, total=   8.1s\n",
      "[CV] neuron1=4, neuron2=20 ...........................................\n",
      "[CV] ............... neuron1=4, neuron2=20, score=0.000, total=   8.1s\n",
      "[CV] neuron1=4, neuron2=20 ...........................................\n",
      "[CV] ............... neuron1=4, neuron2=20, score=0.000, total=   8.1s\n",
      "[CV] neuron1=4, neuron2=30 ...........................................\n",
      "[CV] ............... neuron1=4, neuron2=30, score=0.000, total=   8.5s\n",
      "[CV] neuron1=4, neuron2=30 ...........................................\n",
      "[CV] ............... neuron1=4, neuron2=30, score=0.000, total=   8.2s\n",
      "[CV] neuron1=4, neuron2=30 ...........................................\n",
      "[CV] ............... neuron1=4, neuron2=30, score=0.000, total=   8.1s\n",
      "[CV] neuron1=4, neuron2=30 ...........................................\n",
      "[CV] ............... neuron1=4, neuron2=30, score=0.000, total=   8.1s\n",
      "[CV] neuron1=4, neuron2=30 ...........................................\n",
      "[CV] ............... neuron1=4, neuron2=30, score=0.000, total=   8.0s\n",
      "[CV] neuron1=4, neuron2=40 ...........................................\n",
      "[CV] ............... neuron1=4, neuron2=40, score=0.000, total=   8.0s\n",
      "[CV] neuron1=4, neuron2=40 ...........................................\n",
      "[CV] ............... neuron1=4, neuron2=40, score=0.000, total=   8.1s\n",
      "[CV] neuron1=4, neuron2=40 ...........................................\n",
      "[CV] ............... neuron1=4, neuron2=40, score=0.000, total=   9.0s\n",
      "[CV] neuron1=4, neuron2=40 ...........................................\n",
      "[CV] ............... neuron1=4, neuron2=40, score=0.000, total=   8.2s\n",
      "[CV] neuron1=4, neuron2=40 ...........................................\n",
      "[CV] ............... neuron1=4, neuron2=40, score=0.000, total=   8.4s\n",
      "[CV] neuron1=4, neuron2=50 ...........................................\n",
      "[CV] ............... neuron1=4, neuron2=50, score=0.000, total=   8.3s\n",
      "[CV] neuron1=4, neuron2=50 ...........................................\n",
      "[CV] ............... neuron1=4, neuron2=50, score=0.000, total=   8.3s\n",
      "[CV] neuron1=4, neuron2=50 ...........................................\n",
      "[CV] ............... neuron1=4, neuron2=50, score=0.000, total=   8.1s\n",
      "[CV] neuron1=4, neuron2=50 ...........................................\n",
      "[CV] ............... neuron1=4, neuron2=50, score=0.000, total=   8.4s\n",
      "[CV] neuron1=4, neuron2=50 ...........................................\n",
      "[CV] ............... neuron1=4, neuron2=50, score=0.000, total=   8.3s\n",
      "[CV] neuron1=4, neuron2=60 ...........................................\n",
      "[CV] ............... neuron1=4, neuron2=60, score=0.000, total=   8.3s\n",
      "[CV] neuron1=4, neuron2=60 ...........................................\n",
      "[CV] ............... neuron1=4, neuron2=60, score=0.000, total=   8.2s\n",
      "[CV] neuron1=4, neuron2=60 ...........................................\n",
      "[CV] ............... neuron1=4, neuron2=60, score=0.000, total=   8.4s\n",
      "[CV] neuron1=4, neuron2=60 ...........................................\n",
      "[CV] ............... neuron1=4, neuron2=60, score=0.000, total=   8.2s\n",
      "[CV] neuron1=4, neuron2=60 ...........................................\n",
      "[CV] ............... neuron1=4, neuron2=60, score=0.000, total=   8.1s\n",
      "[CV] neuron1=8, neuron2=2 ............................................\n",
      "[CV] ................ neuron1=8, neuron2=2, score=0.000, total=   8.2s\n",
      "[CV] neuron1=8, neuron2=2 ............................................\n",
      "[CV] ................ neuron1=8, neuron2=2, score=0.000, total=  18.8s\n",
      "[CV] neuron1=8, neuron2=2 ............................................\n",
      "[CV] ................ neuron1=8, neuron2=2, score=0.000, total=   8.1s\n",
      "[CV] neuron1=8, neuron2=2 ............................................\n",
      "[CV] ................ neuron1=8, neuron2=2, score=0.000, total=   8.1s\n",
      "[CV] neuron1=8, neuron2=2 ............................................\n",
      "[CV] ................ neuron1=8, neuron2=2, score=0.000, total=   8.2s\n",
      "[CV] neuron1=8, neuron2=4 ............................................\n",
      "[CV] ................ neuron1=8, neuron2=4, score=0.000, total=   8.5s\n",
      "[CV] neuron1=8, neuron2=4 ............................................\n",
      "[CV] ................ neuron1=8, neuron2=4, score=0.000, total=   8.3s\n",
      "[CV] neuron1=8, neuron2=4 ............................................\n",
      "[CV] ................ neuron1=8, neuron2=4, score=0.000, total=   8.3s\n",
      "[CV] neuron1=8, neuron2=4 ............................................\n",
      "[CV] ................ neuron1=8, neuron2=4, score=0.000, total=   8.2s\n",
      "[CV] neuron1=8, neuron2=4 ............................................\n",
      "[CV] ................ neuron1=8, neuron2=4, score=0.000, total=   8.2s\n",
      "[CV] neuron1=8, neuron2=8 ............................................\n",
      "[CV] ................ neuron1=8, neuron2=8, score=0.000, total=   8.1s\n",
      "[CV] neuron1=8, neuron2=8 ............................................\n",
      "[CV] ................ neuron1=8, neuron2=8, score=0.000, total=   8.1s\n",
      "[CV] neuron1=8, neuron2=8 ............................................\n",
      "[CV] ................ neuron1=8, neuron2=8, score=0.000, total=   8.2s\n",
      "[CV] neuron1=8, neuron2=8 ............................................\n",
      "[CV] ................ neuron1=8, neuron2=8, score=0.000, total=   8.1s\n",
      "[CV] neuron1=8, neuron2=8 ............................................\n",
      "[CV] ................ neuron1=8, neuron2=8, score=0.000, total=   8.6s\n",
      "[CV] neuron1=8, neuron2=20 ...........................................\n",
      "[CV] ............... neuron1=8, neuron2=20, score=0.000, total=   8.1s\n",
      "[CV] neuron1=8, neuron2=20 ...........................................\n",
      "[CV] ............... neuron1=8, neuron2=20, score=0.000, total=   8.1s\n",
      "[CV] neuron1=8, neuron2=20 ...........................................\n",
      "[CV] ............... neuron1=8, neuron2=20, score=0.000, total=   8.1s\n",
      "[CV] neuron1=8, neuron2=20 ...........................................\n",
      "[CV] ............... neuron1=8, neuron2=20, score=0.000, total=   8.3s\n",
      "[CV] neuron1=8, neuron2=20 ...........................................\n",
      "[CV] ............... neuron1=8, neuron2=20, score=0.000, total=   8.1s\n",
      "[CV] neuron1=8, neuron2=30 ...........................................\n",
      "[CV] ............... neuron1=8, neuron2=30, score=0.000, total=   8.1s\n",
      "[CV] neuron1=8, neuron2=30 ...........................................\n",
      "[CV] ............... neuron1=8, neuron2=30, score=0.000, total=   8.1s\n",
      "[CV] neuron1=8, neuron2=30 ...........................................\n",
      "[CV] ............... neuron1=8, neuron2=30, score=0.000, total=   8.1s\n",
      "[CV] neuron1=8, neuron2=30 ...........................................\n",
      "[CV] ............... neuron1=8, neuron2=30, score=0.000, total=   8.3s\n",
      "[CV] neuron1=8, neuron2=30 ...........................................\n",
      "[CV] ............... neuron1=8, neuron2=30, score=0.000, total=   8.1s\n",
      "[CV] neuron1=8, neuron2=40 ...........................................\n",
      "[CV] ............... neuron1=8, neuron2=40, score=0.000, total=   8.3s\n",
      "[CV] neuron1=8, neuron2=40 ...........................................\n",
      "[CV] ............... neuron1=8, neuron2=40, score=0.000, total=   8.2s\n",
      "[CV] neuron1=8, neuron2=40 ...........................................\n"
     ]
    },
    {
     "name": "stdout",
     "output_type": "stream",
     "text": [
      "[CV] ............... neuron1=8, neuron2=40, score=0.000, total=   8.1s\n",
      "[CV] neuron1=8, neuron2=40 ...........................................\n",
      "[CV] ............... neuron1=8, neuron2=40, score=0.000, total=   8.3s\n",
      "[CV] neuron1=8, neuron2=40 ...........................................\n",
      "[CV] ............... neuron1=8, neuron2=40, score=0.000, total=   9.0s\n",
      "[CV] neuron1=8, neuron2=50 ...........................................\n",
      "[CV] ............... neuron1=8, neuron2=50, score=0.000, total=  10.5s\n",
      "[CV] neuron1=8, neuron2=50 ...........................................\n",
      "[CV] ............... neuron1=8, neuron2=50, score=0.000, total=   8.7s\n",
      "[CV] neuron1=8, neuron2=50 ...........................................\n",
      "[CV] ............... neuron1=8, neuron2=50, score=0.000, total=   9.5s\n",
      "[CV] neuron1=8, neuron2=50 ...........................................\n",
      "[CV] ............... neuron1=8, neuron2=50, score=0.000, total=   8.8s\n",
      "[CV] neuron1=8, neuron2=50 ...........................................\n",
      "[CV] ............... neuron1=8, neuron2=50, score=0.000, total=   8.4s\n",
      "[CV] neuron1=8, neuron2=60 ...........................................\n",
      "[CV] ............... neuron1=8, neuron2=60, score=0.000, total=   8.3s\n",
      "[CV] neuron1=8, neuron2=60 ...........................................\n",
      "[CV] ............... neuron1=8, neuron2=60, score=0.000, total=   8.1s\n",
      "[CV] neuron1=8, neuron2=60 ...........................................\n",
      "[CV] ............... neuron1=8, neuron2=60, score=0.000, total=   8.1s\n",
      "[CV] neuron1=8, neuron2=60 ...........................................\n",
      "[CV] ............... neuron1=8, neuron2=60, score=0.000, total=   8.1s\n",
      "[CV] neuron1=8, neuron2=60 ...........................................\n",
      "[CV] ............... neuron1=8, neuron2=60, score=0.000, total=   8.1s\n",
      "[CV] neuron1=16, neuron2=2 ...........................................\n",
      "[CV] ............... neuron1=16, neuron2=2, score=0.000, total=   8.4s\n",
      "[CV] neuron1=16, neuron2=2 ...........................................\n",
      "[CV] ............... neuron1=16, neuron2=2, score=0.000, total=   8.1s\n",
      "[CV] neuron1=16, neuron2=2 ...........................................\n",
      "[CV] ............... neuron1=16, neuron2=2, score=0.000, total=   8.1s\n",
      "[CV] neuron1=16, neuron2=2 ...........................................\n",
      "[CV] ............... neuron1=16, neuron2=2, score=0.000, total=   8.1s\n",
      "[CV] neuron1=16, neuron2=2 ...........................................\n",
      "[CV] ............... neuron1=16, neuron2=2, score=0.000, total=   8.1s\n",
      "[CV] neuron1=16, neuron2=4 ...........................................\n",
      "[CV] ............... neuron1=16, neuron2=4, score=0.000, total=   8.0s\n",
      "[CV] neuron1=16, neuron2=4 ...........................................\n",
      "[CV] ............... neuron1=16, neuron2=4, score=0.000, total=   8.0s\n",
      "[CV] neuron1=16, neuron2=4 ...........................................\n",
      "[CV] ............... neuron1=16, neuron2=4, score=0.000, total=   8.1s\n",
      "[CV] neuron1=16, neuron2=4 ...........................................\n",
      "[CV] ............... neuron1=16, neuron2=4, score=0.000, total=   8.2s\n",
      "[CV] neuron1=16, neuron2=4 ...........................................\n",
      "[CV] ............... neuron1=16, neuron2=4, score=0.000, total=   8.0s\n",
      "[CV] neuron1=16, neuron2=8 ...........................................\n",
      "[CV] ............... neuron1=16, neuron2=8, score=0.000, total=   8.1s\n",
      "[CV] neuron1=16, neuron2=8 ...........................................\n",
      "[CV] ............... neuron1=16, neuron2=8, score=0.000, total=   8.2s\n",
      "[CV] neuron1=16, neuron2=8 ...........................................\n",
      "[CV] ............... neuron1=16, neuron2=8, score=0.000, total=   8.4s\n",
      "[CV] neuron1=16, neuron2=8 ...........................................\n",
      "[CV] ............... neuron1=16, neuron2=8, score=0.000, total=   8.0s\n",
      "[CV] neuron1=16, neuron2=8 ...........................................\n",
      "[CV] ............... neuron1=16, neuron2=8, score=0.000, total=   8.2s\n",
      "[CV] neuron1=16, neuron2=20 ..........................................\n",
      "[CV] .............. neuron1=16, neuron2=20, score=0.000, total=   8.0s\n",
      "[CV] neuron1=16, neuron2=20 ..........................................\n",
      "[CV] .............. neuron1=16, neuron2=20, score=0.000, total=   8.2s\n",
      "[CV] neuron1=16, neuron2=20 ..........................................\n",
      "[CV] .............. neuron1=16, neuron2=20, score=0.000, total=   8.0s\n",
      "[CV] neuron1=16, neuron2=20 ..........................................\n",
      "[CV] .............. neuron1=16, neuron2=20, score=0.000, total=   8.0s\n",
      "[CV] neuron1=16, neuron2=20 ..........................................\n",
      "[CV] .............. neuron1=16, neuron2=20, score=0.000, total=   8.3s\n",
      "[CV] neuron1=16, neuron2=30 ..........................................\n",
      "[CV] .............. neuron1=16, neuron2=30, score=0.000, total=   8.1s\n",
      "[CV] neuron1=16, neuron2=30 ..........................................\n",
      "[CV] .............. neuron1=16, neuron2=30, score=0.000, total=   8.1s\n",
      "[CV] neuron1=16, neuron2=30 ..........................................\n",
      "[CV] .............. neuron1=16, neuron2=30, score=0.000, total=   8.1s\n",
      "[CV] neuron1=16, neuron2=30 ..........................................\n",
      "[CV] .............. neuron1=16, neuron2=30, score=0.000, total=   8.6s\n",
      "[CV] neuron1=16, neuron2=30 ..........................................\n",
      "[CV] .............. neuron1=16, neuron2=30, score=0.000, total=  11.7s\n",
      "[CV] neuron1=16, neuron2=40 ..........................................\n",
      "[CV] .............. neuron1=16, neuron2=40, score=0.000, total=   9.7s\n",
      "[CV] neuron1=16, neuron2=40 ..........................................\n",
      "[CV] .............. neuron1=16, neuron2=40, score=0.000, total=   8.2s\n",
      "[CV] neuron1=16, neuron2=40 ..........................................\n",
      "[CV] .............. neuron1=16, neuron2=40, score=0.000, total=   8.2s\n",
      "[CV] neuron1=16, neuron2=40 ..........................................\n",
      "[CV] .............. neuron1=16, neuron2=40, score=0.000, total=   8.2s\n",
      "[CV] neuron1=16, neuron2=40 ..........................................\n",
      "[CV] .............. neuron1=16, neuron2=40, score=0.000, total=   8.2s\n",
      "[CV] neuron1=16, neuron2=50 ..........................................\n",
      "[CV] .............. neuron1=16, neuron2=50, score=0.000, total=   8.1s\n",
      "[CV] neuron1=16, neuron2=50 ..........................................\n",
      "[CV] .............. neuron1=16, neuron2=50, score=0.000, total=   8.2s\n",
      "[CV] neuron1=16, neuron2=50 ..........................................\n",
      "[CV] .............. neuron1=16, neuron2=50, score=0.000, total=   8.2s\n",
      "[CV] neuron1=16, neuron2=50 ..........................................\n",
      "[CV] .............. neuron1=16, neuron2=50, score=0.000, total=   8.3s\n",
      "[CV] neuron1=16, neuron2=50 ..........................................\n",
      "[CV] .............. neuron1=16, neuron2=50, score=0.000, total=   8.3s\n",
      "[CV] neuron1=16, neuron2=60 ..........................................\n",
      "[CV] .............. neuron1=16, neuron2=60, score=0.000, total=   8.1s\n",
      "[CV] neuron1=16, neuron2=60 ..........................................\n",
      "[CV] .............. neuron1=16, neuron2=60, score=0.000, total=   8.4s\n",
      "[CV] neuron1=16, neuron2=60 ..........................................\n",
      "[CV] .............. neuron1=16, neuron2=60, score=0.000, total=   9.1s\n",
      "[CV] neuron1=16, neuron2=60 ..........................................\n",
      "[CV] .............. neuron1=16, neuron2=60, score=0.000, total=   8.9s\n",
      "[CV] neuron1=16, neuron2=60 ..........................................\n",
      "[CV] .............. neuron1=16, neuron2=60, score=0.000, total=   8.9s\n",
      "[CV] neuron1=20, neuron2=2 ...........................................\n",
      "[CV] ............... neuron1=20, neuron2=2, score=0.000, total=   9.2s\n",
      "[CV] neuron1=20, neuron2=2 ...........................................\n",
      "[CV] ............... neuron1=20, neuron2=2, score=0.000, total=  10.4s\n",
      "[CV] neuron1=20, neuron2=2 ...........................................\n",
      "[CV] ............... neuron1=20, neuron2=2, score=0.000, total=  10.0s\n",
      "[CV] neuron1=20, neuron2=2 ...........................................\n",
      "[CV] ............... neuron1=20, neuron2=2, score=0.000, total=   8.9s\n",
      "[CV] neuron1=20, neuron2=2 ...........................................\n",
      "[CV] ............... neuron1=20, neuron2=2, score=0.000, total=   8.9s\n",
      "[CV] neuron1=20, neuron2=4 ...........................................\n"
     ]
    },
    {
     "name": "stdout",
     "output_type": "stream",
     "text": [
      "[CV] ............... neuron1=20, neuron2=4, score=0.000, total=   9.1s\n",
      "[CV] neuron1=20, neuron2=4 ...........................................\n",
      "[CV] ............... neuron1=20, neuron2=4, score=0.000, total=   8.5s\n",
      "[CV] neuron1=20, neuron2=4 ...........................................\n",
      "[CV] ............... neuron1=20, neuron2=4, score=0.000, total=   9.0s\n",
      "[CV] neuron1=20, neuron2=4 ...........................................\n",
      "[CV] ............... neuron1=20, neuron2=4, score=0.000, total=   8.2s\n",
      "[CV] neuron1=20, neuron2=4 ...........................................\n",
      "[CV] ............... neuron1=20, neuron2=4, score=0.000, total=   8.1s\n",
      "[CV] neuron1=20, neuron2=8 ...........................................\n",
      "[CV] ............... neuron1=20, neuron2=8, score=0.000, total=   8.1s\n",
      "[CV] neuron1=20, neuron2=8 ...........................................\n",
      "[CV] ............... neuron1=20, neuron2=8, score=0.000, total=   8.3s\n",
      "[CV] neuron1=20, neuron2=8 ...........................................\n",
      "[CV] ............... neuron1=20, neuron2=8, score=0.000, total=   8.1s\n",
      "[CV] neuron1=20, neuron2=8 ...........................................\n",
      "[CV] ............... neuron1=20, neuron2=8, score=0.000, total=   7.6s\n",
      "[CV] neuron1=20, neuron2=8 ...........................................\n",
      "[CV] ............... neuron1=20, neuron2=8, score=0.000, total=   8.0s\n",
      "[CV] neuron1=20, neuron2=20 ..........................................\n",
      "[CV] .............. neuron1=20, neuron2=20, score=0.000, total=   7.8s\n",
      "[CV] neuron1=20, neuron2=20 ..........................................\n",
      "[CV] .............. neuron1=20, neuron2=20, score=0.000, total=   7.8s\n",
      "[CV] neuron1=20, neuron2=20 ..........................................\n",
      "[CV] .............. neuron1=20, neuron2=20, score=0.000, total=   7.8s\n",
      "[CV] neuron1=20, neuron2=20 ..........................................\n",
      "[CV] .............. neuron1=20, neuron2=20, score=0.000, total=   7.8s\n",
      "[CV] neuron1=20, neuron2=20 ..........................................\n",
      "[CV] .............. neuron1=20, neuron2=20, score=0.000, total=   7.9s\n",
      "[CV] neuron1=20, neuron2=30 ..........................................\n",
      "[CV] .............. neuron1=20, neuron2=30, score=0.000, total=   8.0s\n",
      "[CV] neuron1=20, neuron2=30 ..........................................\n",
      "[CV] .............. neuron1=20, neuron2=30, score=0.000, total=   7.9s\n",
      "[CV] neuron1=20, neuron2=30 ..........................................\n",
      "[CV] .............. neuron1=20, neuron2=30, score=0.000, total=   7.8s\n",
      "[CV] neuron1=20, neuron2=30 ..........................................\n",
      "[CV] .............. neuron1=20, neuron2=30, score=0.000, total=   7.8s\n",
      "[CV] neuron1=20, neuron2=30 ..........................................\n",
      "[CV] .............. neuron1=20, neuron2=30, score=0.000, total=   7.8s\n",
      "[CV] neuron1=20, neuron2=40 ..........................................\n",
      "[CV] .............. neuron1=20, neuron2=40, score=0.000, total=   7.8s\n",
      "[CV] neuron1=20, neuron2=40 ..........................................\n",
      "[CV] .............. neuron1=20, neuron2=40, score=0.000, total=   7.9s\n",
      "[CV] neuron1=20, neuron2=40 ..........................................\n",
      "[CV] .............. neuron1=20, neuron2=40, score=0.000, total=   7.9s\n",
      "[CV] neuron1=20, neuron2=40 ..........................................\n",
      "[CV] .............. neuron1=20, neuron2=40, score=0.000, total=   7.9s\n",
      "[CV] neuron1=20, neuron2=40 ..........................................\n",
      "[CV] .............. neuron1=20, neuron2=40, score=0.000, total=   7.9s\n",
      "[CV] neuron1=20, neuron2=50 ..........................................\n",
      "[CV] .............. neuron1=20, neuron2=50, score=0.000, total=   7.8s\n",
      "[CV] neuron1=20, neuron2=50 ..........................................\n",
      "[CV] .............. neuron1=20, neuron2=50, score=0.000, total=   7.8s\n",
      "[CV] neuron1=20, neuron2=50 ..........................................\n",
      "[CV] .............. neuron1=20, neuron2=50, score=0.000, total=   7.6s\n",
      "[CV] neuron1=20, neuron2=50 ..........................................\n",
      "[CV] .............. neuron1=20, neuron2=50, score=0.000, total=   7.6s\n",
      "[CV] neuron1=20, neuron2=50 ..........................................\n",
      "[CV] .............. neuron1=20, neuron2=50, score=0.000, total=   7.7s\n",
      "[CV] neuron1=20, neuron2=60 ..........................................\n",
      "[CV] .............. neuron1=20, neuron2=60, score=0.000, total=   7.8s\n",
      "[CV] neuron1=20, neuron2=60 ..........................................\n",
      "[CV] .............. neuron1=20, neuron2=60, score=0.000, total=   7.8s\n",
      "[CV] neuron1=20, neuron2=60 ..........................................\n",
      "[CV] .............. neuron1=20, neuron2=60, score=0.000, total=   7.7s\n",
      "[CV] neuron1=20, neuron2=60 ..........................................\n",
      "[CV] .............. neuron1=20, neuron2=60, score=0.000, total=   7.7s\n",
      "[CV] neuron1=20, neuron2=60 ..........................................\n",
      "[CV] .............. neuron1=20, neuron2=60, score=0.000, total=   7.7s\n",
      "[CV] neuron1=30, neuron2=2 ...........................................\n",
      "[CV] ............... neuron1=30, neuron2=2, score=0.000, total=   7.5s\n",
      "[CV] neuron1=30, neuron2=2 ...........................................\n",
      "[CV] ............... neuron1=30, neuron2=2, score=0.000, total=   7.5s\n",
      "[CV] neuron1=30, neuron2=2 ...........................................\n",
      "[CV] ............... neuron1=30, neuron2=2, score=0.000, total=   7.5s\n",
      "[CV] neuron1=30, neuron2=2 ...........................................\n",
      "[CV] ............... neuron1=30, neuron2=2, score=0.000, total=   7.5s\n",
      "[CV] neuron1=30, neuron2=2 ...........................................\n",
      "[CV] ............... neuron1=30, neuron2=2, score=0.000, total=   7.8s\n",
      "[CV] neuron1=30, neuron2=4 ...........................................\n",
      "[CV] ............... neuron1=30, neuron2=4, score=0.000, total=   7.8s\n",
      "[CV] neuron1=30, neuron2=4 ...........................................\n",
      "[CV] ............... neuron1=30, neuron2=4, score=0.000, total=   7.5s\n",
      "[CV] neuron1=30, neuron2=4 ...........................................\n",
      "[CV] ............... neuron1=30, neuron2=4, score=0.000, total=   7.5s\n",
      "[CV] neuron1=30, neuron2=4 ...........................................\n",
      "[CV] ............... neuron1=30, neuron2=4, score=0.000, total=   7.5s\n",
      "[CV] neuron1=30, neuron2=4 ...........................................\n",
      "[CV] ............... neuron1=30, neuron2=4, score=0.000, total=   7.5s\n",
      "[CV] neuron1=30, neuron2=8 ...........................................\n",
      "[CV] ............... neuron1=30, neuron2=8, score=0.000, total=   7.5s\n",
      "[CV] neuron1=30, neuron2=8 ...........................................\n",
      "[CV] ............... neuron1=30, neuron2=8, score=0.000, total=   7.7s\n",
      "[CV] neuron1=30, neuron2=8 ...........................................\n",
      "[CV] ............... neuron1=30, neuron2=8, score=0.000, total=   7.6s\n",
      "[CV] neuron1=30, neuron2=8 ...........................................\n",
      "[CV] ............... neuron1=30, neuron2=8, score=0.000, total=   7.8s\n",
      "[CV] neuron1=30, neuron2=8 ...........................................\n",
      "[CV] ............... neuron1=30, neuron2=8, score=0.000, total=   7.6s\n",
      "[CV] neuron1=30, neuron2=20 ..........................................\n",
      "[CV] .............. neuron1=30, neuron2=20, score=0.000, total=   7.6s\n",
      "[CV] neuron1=30, neuron2=20 ..........................................\n",
      "[CV] .............. neuron1=30, neuron2=20, score=0.000, total=   7.5s\n",
      "[CV] neuron1=30, neuron2=20 ..........................................\n",
      "[CV] .............. neuron1=30, neuron2=20, score=0.000, total=   7.7s\n",
      "[CV] neuron1=30, neuron2=20 ..........................................\n",
      "[CV] .............. neuron1=30, neuron2=20, score=0.000, total=   7.7s\n",
      "[CV] neuron1=30, neuron2=20 ..........................................\n",
      "[CV] .............. neuron1=30, neuron2=20, score=0.000, total=   8.2s\n",
      "[CV] neuron1=30, neuron2=30 ..........................................\n",
      "[CV] .............. neuron1=30, neuron2=30, score=0.000, total=   8.2s\n",
      "[CV] neuron1=30, neuron2=30 ..........................................\n",
      "[CV] .............. neuron1=30, neuron2=30, score=0.000, total=   8.2s\n",
      "[CV] neuron1=30, neuron2=30 ..........................................\n",
      "[CV] .............. neuron1=30, neuron2=30, score=0.000, total=   8.2s\n",
      "[CV] neuron1=30, neuron2=30 ..........................................\n"
     ]
    },
    {
     "name": "stdout",
     "output_type": "stream",
     "text": [
      "[CV] .............. neuron1=30, neuron2=30, score=0.000, total=   8.0s\n",
      "[CV] neuron1=30, neuron2=30 ..........................................\n",
      "[CV] .............. neuron1=30, neuron2=30, score=0.000, total=   7.9s\n",
      "[CV] neuron1=30, neuron2=40 ..........................................\n",
      "[CV] .............. neuron1=30, neuron2=40, score=0.000, total=   7.8s\n",
      "[CV] neuron1=30, neuron2=40 ..........................................\n",
      "[CV] .............. neuron1=30, neuron2=40, score=0.000, total=   7.7s\n",
      "[CV] neuron1=30, neuron2=40 ..........................................\n",
      "[CV] .............. neuron1=30, neuron2=40, score=0.000, total=   7.6s\n",
      "[CV] neuron1=30, neuron2=40 ..........................................\n",
      "[CV] .............. neuron1=30, neuron2=40, score=0.000, total=   7.6s\n",
      "[CV] neuron1=30, neuron2=40 ..........................................\n",
      "[CV] .............. neuron1=30, neuron2=40, score=0.000, total=   7.5s\n",
      "[CV] neuron1=30, neuron2=50 ..........................................\n",
      "[CV] .............. neuron1=30, neuron2=50, score=0.000, total=   7.6s\n",
      "[CV] neuron1=30, neuron2=50 ..........................................\n",
      "[CV] .............. neuron1=30, neuron2=50, score=0.000, total=   7.7s\n",
      "[CV] neuron1=30, neuron2=50 ..........................................\n",
      "[CV] .............. neuron1=30, neuron2=50, score=0.000, total=   7.5s\n",
      "[CV] neuron1=30, neuron2=50 ..........................................\n",
      "[CV] .............. neuron1=30, neuron2=50, score=0.000, total=   7.5s\n",
      "[CV] neuron1=30, neuron2=50 ..........................................\n",
      "[CV] .............. neuron1=30, neuron2=50, score=0.000, total=   7.5s\n",
      "[CV] neuron1=30, neuron2=60 ..........................................\n",
      "[CV] .............. neuron1=30, neuron2=60, score=0.000, total=   7.6s\n",
      "[CV] neuron1=30, neuron2=60 ..........................................\n",
      "[CV] .............. neuron1=30, neuron2=60, score=0.000, total=   7.6s\n",
      "[CV] neuron1=30, neuron2=60 ..........................................\n",
      "[CV] .............. neuron1=30, neuron2=60, score=0.000, total=   7.5s\n",
      "[CV] neuron1=30, neuron2=60 ..........................................\n",
      "[CV] .............. neuron1=30, neuron2=60, score=0.000, total=   7.5s\n",
      "[CV] neuron1=30, neuron2=60 ..........................................\n",
      "[CV] .............. neuron1=30, neuron2=60, score=0.000, total=   7.6s\n",
      "[CV] neuron1=40, neuron2=2 ...........................................\n",
      "[CV] ............... neuron1=40, neuron2=2, score=0.000, total=   7.6s\n",
      "[CV] neuron1=40, neuron2=2 ...........................................\n",
      "[CV] ............... neuron1=40, neuron2=2, score=0.000, total=   7.5s\n",
      "[CV] neuron1=40, neuron2=2 ...........................................\n",
      "[CV] ............... neuron1=40, neuron2=2, score=0.000, total=   7.6s\n",
      "[CV] neuron1=40, neuron2=2 ...........................................\n",
      "[CV] ............... neuron1=40, neuron2=2, score=0.000, total=   7.6s\n",
      "[CV] neuron1=40, neuron2=2 ...........................................\n",
      "[CV] ............... neuron1=40, neuron2=2, score=0.000, total=   7.6s\n",
      "[CV] neuron1=40, neuron2=4 ...........................................\n",
      "[CV] ............... neuron1=40, neuron2=4, score=0.000, total=   8.0s\n",
      "[CV] neuron1=40, neuron2=4 ...........................................\n",
      "[CV] ............... neuron1=40, neuron2=4, score=0.000, total=   8.1s\n",
      "[CV] neuron1=40, neuron2=4 ...........................................\n",
      "[CV] ............... neuron1=40, neuron2=4, score=0.000, total=   7.9s\n",
      "[CV] neuron1=40, neuron2=4 ...........................................\n",
      "[CV] ............... neuron1=40, neuron2=4, score=0.000, total=   7.9s\n",
      "[CV] neuron1=40, neuron2=4 ...........................................\n",
      "[CV] ............... neuron1=40, neuron2=4, score=0.000, total=   7.9s\n",
      "[CV] neuron1=40, neuron2=8 ...........................................\n",
      "[CV] ............... neuron1=40, neuron2=8, score=0.000, total=   7.8s\n",
      "[CV] neuron1=40, neuron2=8 ...........................................\n",
      "[CV] ............... neuron1=40, neuron2=8, score=0.000, total=   7.8s\n",
      "[CV] neuron1=40, neuron2=8 ...........................................\n",
      "[CV] ............... neuron1=40, neuron2=8, score=0.000, total=   7.5s\n",
      "[CV] neuron1=40, neuron2=8 ...........................................\n",
      "[CV] ............... neuron1=40, neuron2=8, score=0.000, total=   7.5s\n",
      "[CV] neuron1=40, neuron2=8 ...........................................\n",
      "[CV] ............... neuron1=40, neuron2=8, score=0.000, total=   7.5s\n",
      "[CV] neuron1=40, neuron2=20 ..........................................\n",
      "[CV] .............. neuron1=40, neuron2=20, score=0.000, total=   7.5s\n",
      "[CV] neuron1=40, neuron2=20 ..........................................\n",
      "[CV] .............. neuron1=40, neuron2=20, score=0.000, total=   7.5s\n",
      "[CV] neuron1=40, neuron2=20 ..........................................\n",
      "[CV] .............. neuron1=40, neuron2=20, score=0.000, total=   7.5s\n",
      "[CV] neuron1=40, neuron2=20 ..........................................\n",
      "[CV] .............. neuron1=40, neuron2=20, score=0.000, total=   7.7s\n",
      "[CV] neuron1=40, neuron2=20 ..........................................\n",
      "[CV] .............. neuron1=40, neuron2=20, score=0.000, total=   7.5s\n",
      "[CV] neuron1=40, neuron2=30 ..........................................\n",
      "[CV] .............. neuron1=40, neuron2=30, score=0.000, total=   7.6s\n",
      "[CV] neuron1=40, neuron2=30 ..........................................\n",
      "[CV] .............. neuron1=40, neuron2=30, score=0.000, total=   7.6s\n",
      "[CV] neuron1=40, neuron2=30 ..........................................\n",
      "[CV] .............. neuron1=40, neuron2=30, score=0.000, total=   7.7s\n",
      "[CV] neuron1=40, neuron2=30 ..........................................\n",
      "[CV] .............. neuron1=40, neuron2=30, score=0.000, total=   7.7s\n",
      "[CV] neuron1=40, neuron2=30 ..........................................\n",
      "[CV] .............. neuron1=40, neuron2=30, score=0.000, total=   7.7s\n",
      "[CV] neuron1=40, neuron2=40 ..........................................\n",
      "[CV] .............. neuron1=40, neuron2=40, score=0.000, total=   7.8s\n",
      "[CV] neuron1=40, neuron2=40 ..........................................\n",
      "[CV] .............. neuron1=40, neuron2=40, score=0.000, total=   7.9s\n",
      "[CV] neuron1=40, neuron2=40 ..........................................\n",
      "[CV] .............. neuron1=40, neuron2=40, score=0.000, total=   8.0s\n",
      "[CV] neuron1=40, neuron2=40 ..........................................\n",
      "[CV] .............. neuron1=40, neuron2=40, score=0.000, total=   8.1s\n",
      "[CV] neuron1=40, neuron2=40 ..........................................\n",
      "[CV] .............. neuron1=40, neuron2=40, score=0.000, total=   8.1s\n",
      "[CV] neuron1=40, neuron2=50 ..........................................\n",
      "[CV] .............. neuron1=40, neuron2=50, score=0.000, total=   8.2s\n",
      "[CV] neuron1=40, neuron2=50 ..........................................\n",
      "[CV] .............. neuron1=40, neuron2=50, score=0.000, total=   8.2s\n",
      "[CV] neuron1=40, neuron2=50 ..........................................\n",
      "[CV] .............. neuron1=40, neuron2=50, score=0.000, total=   8.0s\n",
      "[CV] neuron1=40, neuron2=50 ..........................................\n",
      "[CV] .............. neuron1=40, neuron2=50, score=0.000, total=   7.9s\n",
      "[CV] neuron1=40, neuron2=50 ..........................................\n",
      "[CV] .............. neuron1=40, neuron2=50, score=0.000, total=   7.8s\n",
      "[CV] neuron1=40, neuron2=60 ..........................................\n",
      "[CV] .............. neuron1=40, neuron2=60, score=0.000, total=   7.8s\n",
      "[CV] neuron1=40, neuron2=60 ..........................................\n",
      "[CV] .............. neuron1=40, neuron2=60, score=0.000, total=   7.6s\n",
      "[CV] neuron1=40, neuron2=60 ..........................................\n",
      "[CV] .............. neuron1=40, neuron2=60, score=0.000, total=   7.6s\n",
      "[CV] neuron1=40, neuron2=60 ..........................................\n",
      "[CV] .............. neuron1=40, neuron2=60, score=0.000, total=   7.5s\n",
      "[CV] neuron1=40, neuron2=60 ..........................................\n",
      "[CV] .............. neuron1=40, neuron2=60, score=0.000, total=   7.6s\n",
      "[CV] neuron1=50, neuron2=2 ...........................................\n",
      "[CV] ............... neuron1=50, neuron2=2, score=0.000, total=   7.2s\n",
      "[CV] neuron1=50, neuron2=2 ...........................................\n"
     ]
    },
    {
     "name": "stdout",
     "output_type": "stream",
     "text": [
      "[CV] ............... neuron1=50, neuron2=2, score=0.000, total=   7.4s\n",
      "[CV] neuron1=50, neuron2=2 ...........................................\n",
      "[CV] ............... neuron1=50, neuron2=2, score=0.000, total=   7.5s\n",
      "[CV] neuron1=50, neuron2=2 ...........................................\n",
      "[CV] ............... neuron1=50, neuron2=2, score=0.000, total=   7.5s\n",
      "[CV] neuron1=50, neuron2=2 ...........................................\n",
      "[CV] ............... neuron1=50, neuron2=2, score=0.000, total=   9.1s\n",
      "[CV] neuron1=50, neuron2=4 ...........................................\n",
      "[CV] ............... neuron1=50, neuron2=4, score=0.000, total=  14.6s\n",
      "[CV] neuron1=50, neuron2=4 ...........................................\n",
      "[CV] ............... neuron1=50, neuron2=4, score=0.000, total=  11.3s\n",
      "[CV] neuron1=50, neuron2=4 ...........................................\n",
      "[CV] ............... neuron1=50, neuron2=4, score=0.000, total=  10.0s\n",
      "[CV] neuron1=50, neuron2=4 ...........................................\n",
      "[CV] ............... neuron1=50, neuron2=4, score=0.000, total=   7.8s\n",
      "[CV] neuron1=50, neuron2=4 ...........................................\n",
      "[CV] ............... neuron1=50, neuron2=4, score=0.000, total=   7.8s\n",
      "[CV] neuron1=50, neuron2=8 ...........................................\n",
      "[CV] ............... neuron1=50, neuron2=8, score=0.000, total=   8.0s\n",
      "[CV] neuron1=50, neuron2=8 ...........................................\n",
      "[CV] ............... neuron1=50, neuron2=8, score=0.000, total=   8.0s\n",
      "[CV] neuron1=50, neuron2=8 ...........................................\n",
      "[CV] ............... neuron1=50, neuron2=8, score=0.000, total=   8.2s\n",
      "[CV] neuron1=50, neuron2=8 ...........................................\n",
      "[CV] ............... neuron1=50, neuron2=8, score=0.000, total=   8.2s\n",
      "[CV] neuron1=50, neuron2=8 ...........................................\n",
      "[CV] ............... neuron1=50, neuron2=8, score=0.000, total=   8.1s\n",
      "[CV] neuron1=50, neuron2=20 ..........................................\n",
      "[CV] .............. neuron1=50, neuron2=20, score=0.000, total=   8.0s\n",
      "[CV] neuron1=50, neuron2=20 ..........................................\n",
      "[CV] .............. neuron1=50, neuron2=20, score=0.000, total=   7.9s\n",
      "[CV] neuron1=50, neuron2=20 ..........................................\n",
      "[CV] .............. neuron1=50, neuron2=20, score=0.000, total=   7.7s\n",
      "[CV] neuron1=50, neuron2=20 ..........................................\n",
      "[CV] .............. neuron1=50, neuron2=20, score=0.000, total=   7.6s\n",
      "[CV] neuron1=50, neuron2=20 ..........................................\n",
      "[CV] .............. neuron1=50, neuron2=20, score=0.000, total=   7.6s\n",
      "[CV] neuron1=50, neuron2=30 ..........................................\n",
      "[CV] .............. neuron1=50, neuron2=30, score=0.000, total=   7.6s\n",
      "[CV] neuron1=50, neuron2=30 ..........................................\n",
      "[CV] .............. neuron1=50, neuron2=30, score=0.000, total=   7.6s\n",
      "[CV] neuron1=50, neuron2=30 ..........................................\n",
      "[CV] .............. neuron1=50, neuron2=30, score=0.000, total=   7.7s\n",
      "[CV] neuron1=50, neuron2=30 ..........................................\n",
      "[CV] .............. neuron1=50, neuron2=30, score=0.000, total=   7.4s\n",
      "[CV] neuron1=50, neuron2=30 ..........................................\n",
      "[CV] .............. neuron1=50, neuron2=30, score=0.000, total=   7.6s\n",
      "[CV] neuron1=50, neuron2=40 ..........................................\n",
      "[CV] .............. neuron1=50, neuron2=40, score=0.000, total=   7.6s\n",
      "[CV] neuron1=50, neuron2=40 ..........................................\n",
      "[CV] .............. neuron1=50, neuron2=40, score=0.000, total=   7.7s\n",
      "[CV] neuron1=50, neuron2=40 ..........................................\n",
      "[CV] .............. neuron1=50, neuron2=40, score=0.000, total=   7.6s\n",
      "[CV] neuron1=50, neuron2=40 ..........................................\n",
      "[CV] .............. neuron1=50, neuron2=40, score=0.000, total=   7.6s\n",
      "[CV] neuron1=50, neuron2=40 ..........................................\n",
      "[CV] .............. neuron1=50, neuron2=40, score=0.000, total=   7.6s\n",
      "[CV] neuron1=50, neuron2=50 ..........................................\n",
      "[CV] .............. neuron1=50, neuron2=50, score=0.000, total=   7.7s\n",
      "[CV] neuron1=50, neuron2=50 ..........................................\n",
      "[CV] .............. neuron1=50, neuron2=50, score=0.000, total=   7.9s\n",
      "[CV] neuron1=50, neuron2=50 ..........................................\n",
      "[CV] .............. neuron1=50, neuron2=50, score=0.000, total=   7.6s\n",
      "[CV] neuron1=50, neuron2=50 ..........................................\n",
      "[CV] .............. neuron1=50, neuron2=50, score=0.000, total=   7.6s\n",
      "[CV] neuron1=50, neuron2=50 ..........................................\n",
      "[CV] .............. neuron1=50, neuron2=50, score=0.000, total=   7.6s\n",
      "[CV] neuron1=50, neuron2=60 ..........................................\n",
      "[CV] .............. neuron1=50, neuron2=60, score=0.000, total=   7.7s\n",
      "[CV] neuron1=50, neuron2=60 ..........................................\n",
      "[CV] .............. neuron1=50, neuron2=60, score=0.000, total=   7.7s\n",
      "[CV] neuron1=50, neuron2=60 ..........................................\n",
      "[CV] .............. neuron1=50, neuron2=60, score=0.000, total=   7.8s\n",
      "[CV] neuron1=50, neuron2=60 ..........................................\n",
      "[CV] .............. neuron1=50, neuron2=60, score=0.000, total=   7.8s\n",
      "[CV] neuron1=50, neuron2=60 ..........................................\n",
      "[CV] .............. neuron1=50, neuron2=60, score=0.000, total=   8.0s\n"
     ]
    },
    {
     "name": "stderr",
     "output_type": "stream",
     "text": [
      "[Parallel(n_jobs=1)]: Done 280 out of 280 | elapsed: 38.0min finished\n"
     ]
    }
   ],
   "source": [
    "model = KerasClassifier(build_fn = create_model,verbose = 0,batch_size = 10,epochs = 10)\n",
    "\n",
    "neuron1 = [4,8,16,20,30,40,50]\n",
    "neuron2 = [2,4,8,20,30,40,50,60]\n",
    "\n",
    "param_grids = dict(neuron1 = neuron1,neuron2 = neuron2)\n",
    "\n",
    "grid = GridSearchCV(estimator = model,param_grid = param_grids,cv = KFold(),verbose = 10)\n",
    "grid_result = grid.fit(X,y)"
   ]
  },
  {
   "cell_type": "code",
   "execution_count": 34,
   "metadata": {},
   "outputs": [
    {
     "name": "stdout",
     "output_type": "stream",
     "text": [
      "Best : 0.0, using {'neuron1': 4, 'neuron2': 2}\n",
      "0.0,0.0 with: {'neuron1': 4, 'neuron2': 2}\n",
      "0.0,0.0 with: {'neuron1': 4, 'neuron2': 4}\n",
      "0.0,0.0 with: {'neuron1': 4, 'neuron2': 8}\n",
      "0.0,0.0 with: {'neuron1': 4, 'neuron2': 20}\n",
      "0.0,0.0 with: {'neuron1': 4, 'neuron2': 30}\n",
      "0.0,0.0 with: {'neuron1': 4, 'neuron2': 40}\n",
      "0.0,0.0 with: {'neuron1': 4, 'neuron2': 50}\n",
      "0.0,0.0 with: {'neuron1': 4, 'neuron2': 60}\n",
      "0.0,0.0 with: {'neuron1': 8, 'neuron2': 2}\n",
      "0.0,0.0 with: {'neuron1': 8, 'neuron2': 4}\n",
      "0.0,0.0 with: {'neuron1': 8, 'neuron2': 8}\n",
      "0.0,0.0 with: {'neuron1': 8, 'neuron2': 20}\n",
      "0.0,0.0 with: {'neuron1': 8, 'neuron2': 30}\n",
      "0.0,0.0 with: {'neuron1': 8, 'neuron2': 40}\n",
      "0.0,0.0 with: {'neuron1': 8, 'neuron2': 50}\n",
      "0.0,0.0 with: {'neuron1': 8, 'neuron2': 60}\n",
      "0.0,0.0 with: {'neuron1': 16, 'neuron2': 2}\n",
      "0.0,0.0 with: {'neuron1': 16, 'neuron2': 4}\n",
      "0.0,0.0 with: {'neuron1': 16, 'neuron2': 8}\n",
      "0.0,0.0 with: {'neuron1': 16, 'neuron2': 20}\n",
      "0.0,0.0 with: {'neuron1': 16, 'neuron2': 30}\n",
      "0.0,0.0 with: {'neuron1': 16, 'neuron2': 40}\n",
      "0.0,0.0 with: {'neuron1': 16, 'neuron2': 50}\n",
      "0.0,0.0 with: {'neuron1': 16, 'neuron2': 60}\n",
      "0.0,0.0 with: {'neuron1': 20, 'neuron2': 2}\n",
      "0.0,0.0 with: {'neuron1': 20, 'neuron2': 4}\n",
      "0.0,0.0 with: {'neuron1': 20, 'neuron2': 8}\n",
      "0.0,0.0 with: {'neuron1': 20, 'neuron2': 20}\n",
      "0.0,0.0 with: {'neuron1': 20, 'neuron2': 30}\n",
      "0.0,0.0 with: {'neuron1': 20, 'neuron2': 40}\n",
      "0.0,0.0 with: {'neuron1': 20, 'neuron2': 50}\n",
      "0.0,0.0 with: {'neuron1': 20, 'neuron2': 60}\n",
      "0.0,0.0 with: {'neuron1': 30, 'neuron2': 2}\n",
      "0.0,0.0 with: {'neuron1': 30, 'neuron2': 4}\n",
      "0.0,0.0 with: {'neuron1': 30, 'neuron2': 8}\n",
      "0.0,0.0 with: {'neuron1': 30, 'neuron2': 20}\n",
      "0.0,0.0 with: {'neuron1': 30, 'neuron2': 30}\n",
      "0.0,0.0 with: {'neuron1': 30, 'neuron2': 40}\n",
      "0.0,0.0 with: {'neuron1': 30, 'neuron2': 50}\n",
      "0.0,0.0 with: {'neuron1': 30, 'neuron2': 60}\n",
      "0.0,0.0 with: {'neuron1': 40, 'neuron2': 2}\n",
      "0.0,0.0 with: {'neuron1': 40, 'neuron2': 4}\n",
      "0.0,0.0 with: {'neuron1': 40, 'neuron2': 8}\n",
      "0.0,0.0 with: {'neuron1': 40, 'neuron2': 20}\n",
      "0.0,0.0 with: {'neuron1': 40, 'neuron2': 30}\n",
      "0.0,0.0 with: {'neuron1': 40, 'neuron2': 40}\n",
      "0.0,0.0 with: {'neuron1': 40, 'neuron2': 50}\n",
      "0.0,0.0 with: {'neuron1': 40, 'neuron2': 60}\n",
      "0.0,0.0 with: {'neuron1': 50, 'neuron2': 2}\n",
      "0.0,0.0 with: {'neuron1': 50, 'neuron2': 4}\n",
      "0.0,0.0 with: {'neuron1': 50, 'neuron2': 8}\n",
      "0.0,0.0 with: {'neuron1': 50, 'neuron2': 20}\n",
      "0.0,0.0 with: {'neuron1': 50, 'neuron2': 30}\n",
      "0.0,0.0 with: {'neuron1': 50, 'neuron2': 40}\n",
      "0.0,0.0 with: {'neuron1': 50, 'neuron2': 50}\n",
      "0.0,0.0 with: {'neuron1': 50, 'neuron2': 60}\n"
     ]
    }
   ],
   "source": [
    "print('Best : {}, using {}'.format(grid_result.best_score_,grid_result.best_params_))\n",
    "means = grid_result.cv_results_['mean_test_score']\n",
    "stds = grid_result.cv_results_['std_test_score']\n",
    "params = grid_result.cv_results_['params']\n",
    "for mean, stdev, param in zip(means, stds, params):\n",
    "  print('{},{} with: {}'.format(mean, stdev, param))"
   ]
  },
  {
   "cell_type": "code",
   "execution_count": 35,
   "metadata": {},
   "outputs": [],
   "source": [
    "from sklearn.model_selection import train_test_split"
   ]
  },
  {
   "cell_type": "code",
   "execution_count": 36,
   "metadata": {},
   "outputs": [
    {
     "data": {
      "text/plain": [
       "((10527, 10), (4512, 10), (10527,), (4512,))"
      ]
     },
     "execution_count": 36,
     "metadata": {},
     "output_type": "execute_result"
    }
   ],
   "source": [
    "X_train,X_test,y_train,y_test =train_test_split(X,y,test_size =0.3,random_state =42)\n",
    "X_train.shape,X_test.shape,y_train.shape,y_test.shape\n"
   ]
  },
  {
   "cell_type": "code",
   "execution_count": 39,
   "metadata": {},
   "outputs": [],
   "source": [
    "optmizer =RMSprop(0.001)\n",
    "model_new=keras.Sequential([\n",
    "    keras.layers.Dense(4,input_dim =(n_features),activation='relu'),\n",
    "    keras.layers.Dense(2,activation ='relu')\n",
    "])\n",
    "model_new.compile(optimizer =optmizer,loss= 'mean_squared_error',metrics=['accuracy'])"
   ]
  },
  {
   "cell_type": "code",
   "execution_count": 42,
   "metadata": {},
   "outputs": [
    {
     "name": "stdout",
     "output_type": "stream",
     "text": [
      "Epoch 1/10\n",
      "1053/1053 [==============================] - 1s 603us/step - loss: 0.4736 - accuracy: 0.0000e+00\n",
      "Epoch 2/10\n",
      "1053/1053 [==============================] - 1s 652us/step - loss: 0.4736 - accuracy: 0.0000e+00\n",
      "Epoch 3/10\n",
      "1053/1053 [==============================] - 1s 637us/step - loss: 0.4736 - accuracy: 0.0000e+00\n",
      "Epoch 4/10\n",
      "1053/1053 [==============================] - 1s 623us/step - loss: 0.4736 - accuracy: 0.0000e+00\n",
      "Epoch 5/10\n",
      "1053/1053 [==============================] - 1s 625us/step - loss: 0.4736 - accuracy: 0.0000e+00\n",
      "Epoch 6/10\n",
      "1053/1053 [==============================] - 1s 610us/step - loss: 0.4735 - accuracy: 0.0000e+00\n",
      "Epoch 7/10\n",
      "1053/1053 [==============================] - 1s 686us/step - loss: 0.4735 - accuracy: 0.0000e+00\n",
      "Epoch 8/10\n",
      "1053/1053 [==============================] - 1s 616us/step - loss: 0.4735 - accuracy: 0.0000e+00\n",
      "Epoch 9/10\n",
      "1053/1053 [==============================] - 1s 660us/step - loss: 0.4734 - accuracy: 0.0000e+00\n",
      "Epoch 10/10\n",
      "1053/1053 [==============================] - 1s 603us/step - loss: 0.4734 - accuracy: 0.0000e+00\n"
     ]
    },
    {
     "data": {
      "text/plain": [
       "<keras.callbacks.History at 0x21ad1cf26c8>"
      ]
     },
     "execution_count": 42,
     "metadata": {},
     "output_type": "execute_result"
    }
   ],
   "source": [
    "seed_value =42;\n",
    "import random\n",
    "tensorflow.random.set_seed(seed_value)\n",
    "model_new.fit(X_train, y_train, epochs=10, batch_size=10, verbose = 1)"
   ]
  },
  {
   "cell_type": "code",
   "execution_count": 43,
   "metadata": {},
   "outputs": [
    {
     "name": "stdout",
     "output_type": "stream",
     "text": [
      "141/141 [==============================] - 0s 534us/step - loss: 0.4931 - accuracy: 0.0000e+00\n"
     ]
    },
    {
     "data": {
      "text/plain": [
       "[0.4930703938007355, 0.0]"
      ]
     },
     "execution_count": 43,
     "metadata": {},
     "output_type": "execute_result"
    }
   ],
   "source": [
    "model_new.evaluate(X_test,y_test)"
   ]
  }
 ],
 "metadata": {
  "kernelspec": {
   "display_name": "Python 3",
   "language": "python",
   "name": "python3"
  },
  "language_info": {
   "codemirror_mode": {
    "name": "ipython",
    "version": 3
   },
   "file_extension": ".py",
   "mimetype": "text/x-python",
   "name": "python",
   "nbconvert_exporter": "python",
   "pygments_lexer": "ipython3",
   "version": "3.7.6"
  }
 },
 "nbformat": 4,
 "nbformat_minor": 4
}
